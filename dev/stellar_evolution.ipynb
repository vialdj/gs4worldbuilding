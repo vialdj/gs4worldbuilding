{
 "cells": [
  {
   "cell_type": "markdown",
   "id": "a3f9eea9-7c32-41b7-a82b-34c04f79b2fa",
   "metadata": {},
   "source": [
    "# Stellar Evolution Table interpollations\n",
    "*Parse table from csv file*"
   ]
  },
  {
   "cell_type": "code",
   "execution_count": 42,
   "id": "951317e5-79aa-4f7c-9701-feb3e4b2dea4",
   "metadata": {},
   "outputs": [
    {
     "data": {
      "text/html": [
       "<div>\n",
       "<style scoped>\n",
       "    .dataframe tbody tr th:only-of-type {\n",
       "        vertical-align: middle;\n",
       "    }\n",
       "\n",
       "    .dataframe tbody tr th {\n",
       "        vertical-align: top;\n",
       "    }\n",
       "\n",
       "    .dataframe thead th {\n",
       "        text-align: right;\n",
       "    }\n",
       "</style>\n",
       "<table border=\"1\" class=\"dataframe\">\n",
       "  <thead>\n",
       "    <tr style=\"text-align: right;\">\n",
       "      <th></th>\n",
       "      <th>p</th>\n",
       "      <th>mass</th>\n",
       "      <th>type</th>\n",
       "      <th>temp</th>\n",
       "      <th>l_min</th>\n",
       "      <th>l_max</th>\n",
       "      <th>m_span</th>\n",
       "      <th>s_span</th>\n",
       "      <th>g_span</th>\n",
       "    </tr>\n",
       "    <tr>\n",
       "      <th>mass</th>\n",
       "      <th></th>\n",
       "      <th></th>\n",
       "      <th></th>\n",
       "      <th></th>\n",
       "      <th></th>\n",
       "      <th></th>\n",
       "      <th></th>\n",
       "      <th></th>\n",
       "      <th></th>\n",
       "    </tr>\n",
       "  </thead>\n",
       "  <tbody>\n",
       "    <tr>\n",
       "      <th>2.0</th>\n",
       "      <td>0.002315</td>\n",
       "      <td>2.0</td>\n",
       "      <td>A5</td>\n",
       "      <td>8200</td>\n",
       "      <td>16.0</td>\n",
       "      <td>20.0</td>\n",
       "      <td>1.3</td>\n",
       "      <td>0.2</td>\n",
       "      <td>0.1</td>\n",
       "    </tr>\n",
       "    <tr>\n",
       "      <th>1.9</th>\n",
       "      <td>0.002315</td>\n",
       "      <td>1.9</td>\n",
       "      <td>A6</td>\n",
       "      <td>8000</td>\n",
       "      <td>13.0</td>\n",
       "      <td>16.0</td>\n",
       "      <td>1.5</td>\n",
       "      <td>0.2</td>\n",
       "      <td>0.1</td>\n",
       "    </tr>\n",
       "    <tr>\n",
       "      <th>1.8</th>\n",
       "      <td>0.003601</td>\n",
       "      <td>1.8</td>\n",
       "      <td>A7</td>\n",
       "      <td>7800</td>\n",
       "      <td>11.0</td>\n",
       "      <td>13.0</td>\n",
       "      <td>1.8</td>\n",
       "      <td>0.3</td>\n",
       "      <td>0.2</td>\n",
       "    </tr>\n",
       "    <tr>\n",
       "      <th>1.7</th>\n",
       "      <td>0.005080</td>\n",
       "      <td>1.7</td>\n",
       "      <td>A9</td>\n",
       "      <td>7500</td>\n",
       "      <td>8.6</td>\n",
       "      <td>10.0</td>\n",
       "      <td>2.1</td>\n",
       "      <td>0.3</td>\n",
       "      <td>0.2</td>\n",
       "    </tr>\n",
       "    <tr>\n",
       "      <th>1.6</th>\n",
       "      <td>0.005209</td>\n",
       "      <td>1.6</td>\n",
       "      <td>F0</td>\n",
       "      <td>7300</td>\n",
       "      <td>6.7</td>\n",
       "      <td>8.2</td>\n",
       "      <td>2.5</td>\n",
       "      <td>0.4</td>\n",
       "      <td>0.2</td>\n",
       "    </tr>\n",
       "  </tbody>\n",
       "</table>\n",
       "</div>"
      ],
      "text/plain": [
       "             p  mass type  temp  l_min  l_max  m_span  s_span  g_span\n",
       "mass                                                                 \n",
       "2.0   0.002315   2.0   A5  8200   16.0   20.0     1.3     0.2     0.1\n",
       "1.9   0.002315   1.9   A6  8000   13.0   16.0     1.5     0.2     0.1\n",
       "1.8   0.003601   1.8   A7  7800   11.0   13.0     1.8     0.3     0.2\n",
       "1.7   0.005080   1.7   A9  7500    8.6   10.0     2.1     0.3     0.2\n",
       "1.6   0.005209   1.6   F0  7300    6.7    8.2     2.5     0.4     0.2"
      ]
     },
     "execution_count": 42,
     "metadata": {},
     "output_type": "execute_result"
    }
   ],
   "source": [
    "from pandas import read_csv\n",
    "\n",
    "\n",
    "df = read_csv('stellar_evolution.csv')\n",
    "df = df.set_index(df.mass)\n",
    "df.head()"
   ]
  },
  {
   "cell_type": "markdown",
   "id": "f8619a87-5584-4e32-be18-3ccf27cd898a",
   "metadata": {},
   "source": [
    "## Fitting temperature\n",
    "*Fit of temperature values as $a+bx$*"
   ]
  },
  {
   "cell_type": "code",
   "execution_count": 43,
   "id": "bfff072b-c327-4104-87bc-b4c1a91569cb",
   "metadata": {},
   "outputs": [
    {
     "data": {
      "text/plain": [
       "(2598.6586686607316, 2948.6212815383583)"
      ]
     },
     "execution_count": 43,
     "metadata": {},
     "output_type": "execute_result"
    }
   ],
   "source": [
    "from scipy.optimize import curve_fit\n",
    "\n",
    "\n",
    "x = df.index\n",
    "y = df.temp\n",
    "popt, _ = curve_fit(lambda x, a, b: a + b * x, x, y)\n",
    "a, b = popt\n",
    "a, b"
   ]
  },
  {
   "cell_type": "markdown",
   "id": "2ec24786-5fbc-403f-bf7d-2437c662a614",
   "metadata": {},
   "source": [
    "*Predict and score interpollated values with a $r^2$ fitness score*"
   ]
  },
  {
   "cell_type": "code",
   "execution_count": 44,
   "id": "aca8e5f5-8ad7-416c-b603-813c42614b15",
   "metadata": {},
   "outputs": [
    {
     "data": {
      "text/plain": [
       "0.9861213738000962"
      ]
     },
     "execution_count": 44,
     "metadata": {},
     "output_type": "execute_result"
    }
   ],
   "source": [
    "import numpy as np\n",
    "\n",
    "temp = x.map(lambda x: a + b * x)\n",
    "r2 = 1 - (np.sum((y - temp) ** 2) / np.sum((y - np.mean(y)) ** 2))\n",
    "r2"
   ]
  },
  {
   "cell_type": "code",
   "execution_count": 45,
   "id": "19c55c98-ceb0-4c4c-b198-962c9c637854",
   "metadata": {},
   "outputs": [
    {
     "data": {
      "image/png": "[encoded data removed]",
      "text/plain": [
       "<Figure size 432x288 with 1 Axes>"
      ]
     },
     "metadata": {
      "needs_background": "light"
     },
     "output_type": "display_data"
    }
   ],
   "source": [
    "import matplotlib.pyplot as plt\n",
    "\n",
    "\n",
    "_, ax = plt.subplots()\n",
    "ax.set_title(r\"Temp fit as $a+bx$\")\n",
    "ax.plot(x, y, 'o', label='Temp')\n",
    "ax.plot(x, temp, '-', label='Temp fit')\n",
    "ax.set_xlabel('mass in M☉')\n",
    "ax.set_ylabel('Temp in K')\n",
    "ax.legend()\n",
    "plt.show()"
   ]
  },
  {
   "cell_type": "markdown",
   "id": "23c41714-d47c-449a-a12d-df5142fe51fc",
   "metadata": {},
   "source": [
    "## Fitting min an max luminosities\n",
    "### L-Min fit\n",
    "*Fit of lmin values as $ax^b$*"
   ]
  },
  {
   "cell_type": "code",
   "execution_count": 46,
   "id": "58cdce29-3492-4d9d-b317-a86b23812679",
   "metadata": {},
   "outputs": [
    {
     "data": {
      "text/plain": [
       "(0.8994825154104518, 4.182711149771404)"
      ]
     },
     "execution_count": 46,
     "metadata": {},
     "output_type": "execute_result"
    }
   ],
   "source": [
    "x = df.index\n",
    "y = df.l_min\n",
    "popt, _ = curve_fit(lambda x, a, b: a * x ** b, x, y)\n",
    "a, b = popt\n",
    "a, b"
   ]
  },
  {
   "cell_type": "markdown",
   "id": "55df23a4-f164-4d10-8f32-6173744a0a77",
   "metadata": {},
   "source": [
    "*Predict and score interpollated values with a $r^2$ fitness score*"
   ]
  },
  {
   "cell_type": "code",
   "execution_count": 47,
   "id": "c6f68d4e-2075-4b49-b5a4-73e0d4b76eca",
   "metadata": {},
   "outputs": [
    {
     "data": {
      "text/plain": [
       "0.9981403450049346"
      ]
     },
     "execution_count": 47,
     "metadata": {},
     "output_type": "execute_result"
    }
   ],
   "source": [
    "l_min = x.map(lambda x: a * x ** b)\n",
    "r2 = 1 - (np.sum((y - l_min) ** 2) / np.sum((y - np.mean(y)) ** 2))\n",
    "r2"
   ]
  },
  {
   "cell_type": "code",
   "execution_count": 48,
   "id": "6a3a6461",
   "metadata": {},
   "outputs": [
    {
     "data": {
      "image/png": "[encoded data removed]",
      "text/plain": [
       "<Figure size 432x288 with 1 Axes>"
      ]
     },
     "metadata": {
      "needs_background": "light"
     },
     "output_type": "display_data"
    }
   ],
   "source": [
    "_, ax = plt.subplots()\n",
    "ax.set_title(r\"L-Min fit as $ax^b$\")\n",
    "ax.plot(x, y, 'o', label='L-Min')\n",
    "ax.plot(x, l_min, '-', label='L-Min fit')\n",
    "ax.set_xlabel('mass in M☉')\n",
    "ax.set_ylabel('luminosity in L☉')\n",
    "ax.legend()\n",
    "plt.show()"
   ]
  },
  {
   "cell_type": "markdown",
   "id": "12661ed1-4187-4245-957e-6ac31e2c71ca",
   "metadata": {},
   "source": [
    "*All l_min predicted values for mass \\[.1, 2.0\\] must be greater than 0*"
   ]
  },
  {
   "cell_type": "code",
   "execution_count": 49,
   "id": "ebfe17b5-dcdc-481c-8300-04e5146cacdd",
   "metadata": {},
   "outputs": [
    {
     "data": {
      "text/plain": [
       "True"
      ]
     },
     "execution_count": 49,
     "metadata": {},
     "output_type": "execute_result"
    }
   ],
   "source": [
    "all(v >= 0 for v in l_min)"
   ]
  },
  {
   "cell_type": "markdown",
   "id": "69f407b9-d6e5-49e1-88ed-f8afe941e066",
   "metadata": {},
   "source": [
    "### L-Max fit\n",
    "*Fit of lmax values as $ax^b$*"
   ]
  },
  {
   "cell_type": "code",
   "execution_count": 50,
   "id": "392f0012-c3d1-43e3-9882-8389658f3207",
   "metadata": {},
   "outputs": [
    {
     "data": {
      "text/plain": [
       "(1.417549268949681, 3.786542028176919)"
      ]
     },
     "execution_count": 50,
     "metadata": {},
     "output_type": "execute_result"
    }
   ],
   "source": [
    "df_filtered = df[df.index >= .45]\n",
    "x = df_filtered.index\n",
    "y = df_filtered.l_max\n",
    "popt, _ = curve_fit(lambda x, a, b: a * x ** b, x, y)\n",
    "a, b = popt\n",
    "a, b"
   ]
  },
  {
   "cell_type": "code",
   "execution_count": 51,
   "id": "3828aeea-7e5e-4f63-b683-946ae8eda1b2",
   "metadata": {},
   "outputs": [
    {
     "data": {
      "text/plain": [
       "0.9987815353130644"
      ]
     },
     "execution_count": 51,
     "metadata": {},
     "output_type": "execute_result"
    }
   ],
   "source": [
    "l_max = x.map(lambda x: a * x ** b)\n",
    "r2 = 1 - (np.sum((y - l_max) ** 2) / np.sum((y - np.mean(y)) ** 2))\n",
    "r2"
   ]
  },
  {
   "cell_type": "code",
   "execution_count": 52,
   "id": "94ad911e-1c05-4154-9918-2a36a5437865",
   "metadata": {},
   "outputs": [
    {
     "data": {
      "image/png": "[encoded data removed]",
      "text/plain": [
       "<Figure size 432x288 with 1 Axes>"
      ]
     },
     "metadata": {
      "needs_background": "light"
     },
     "output_type": "display_data"
    }
   ],
   "source": [
    "_, ax = plt.subplots()\n",
    "ax.set_title(r\"L-Max fit as $ax^b$\")\n",
    "ax.plot(x, y, 'o', label='L-Max')\n",
    "ax.plot(df.index, df.l_min, 'o', label='L-Min')\n",
    "ax.plot(x, l_max, '-', label='L-Max fit')\n",
    "ax.plot(df.index, l_min, '-', label='L-Min fit')\n",
    "ax.set_xlabel('mass in M☉')\n",
    "ax.set_ylabel('luminosity in L☉')\n",
    "ax.legend()\n",
    "plt.show()"
   ]
  },
  {
   "cell_type": "markdown",
   "id": "c9ab1acc-2ef9-458f-b23a-2cdb0028afac",
   "metadata": {},
   "source": [
    "*All l_max predicted values for mass [.45, 2.0] must be greater than predicted l_min values*"
   ]
  },
  {
   "cell_type": "code",
   "execution_count": 53,
   "id": "b20a87bf-bb54-4ee3-a136-9da1d6401e77",
   "metadata": {},
   "outputs": [
    {
     "data": {
      "text/plain": [
       "True"
      ]
     },
     "execution_count": 53,
     "metadata": {},
     "output_type": "execute_result"
    }
   ],
   "source": [
    "diff = [l_max[i] - l_min[i] for i in range(len(df_filtered.index))]\n",
    "all(d >= 0 for d in diff)"
   ]
  },
  {
   "cell_type": "markdown",
   "id": "b45b51da-ef79-4ffe-8a69-c76316ce62a8",
   "metadata": {},
   "source": [
    "## Fitting spans\n",
    "### M-Span fit\n",
    "*Fit of mspan values as $ae^{bx}+c$*"
   ]
  },
  {
   "cell_type": "code",
   "execution_count": 54,
   "id": "029818e9-f566-467a-ae74-567ae7db3d5c",
   "metadata": {},
   "outputs": [
    {
     "data": {
      "text/plain": [
       "(355.2573273345443, -3.623944651847095, 1.1984270816978497)"
      ]
     },
     "execution_count": 54,
     "metadata": {},
     "output_type": "execute_result"
    }
   ],
   "source": [
    "df_filtered = df[df.index >= .45]\n",
    "x = df_filtered.index\n",
    "y = df_filtered.m_span\n",
    "popt, _ = curve_fit(lambda x, a, b, c: a * np.exp(b * x) + c, x, y)\n",
    "a, b, c = popt\n",
    "a, b, c"
   ]
  },
  {
   "cell_type": "code",
   "execution_count": 55,
   "id": "186681a6-c3cc-412e-a5c7-88b1adb8a0b6",
   "metadata": {},
   "outputs": [
    {
     "data": {
      "text/plain": [
       "0.9990442441678579"
      ]
     },
     "execution_count": 55,
     "metadata": {},
     "output_type": "execute_result"
    }
   ],
   "source": [
    "m_span = x.map(lambda x: a * np.exp(b * x) + c)\n",
    "r2 = 1 - (np.sum((y - m_span) ** 2) / np.sum((y - np.mean(y)) ** 2))\n",
    "r2"
   ]
  },
  {
   "cell_type": "code",
   "execution_count": 56,
   "id": "5d4ca7ad-7873-413f-b0fc-81a23e0c7045",
   "metadata": {},
   "outputs": [
    {
     "data": {
      "image/png": "[encoded data removed]",
      "text/plain": [
       "<Figure size 432x288 with 1 Axes>"
      ]
     },
     "metadata": {
      "needs_background": "light"
     },
     "output_type": "display_data"
    }
   ],
   "source": [
    "_, ax = plt.subplots()\n",
    "ax.set_title(r\"M-Span fit as $ae^{bx}+c$\")\n",
    "ax.plot(x, y, 'o', label='M-Span')\n",
    "ax.plot(x, m_span, '-', label='M-Span fit')\n",
    "ax.set_xlabel('mass in M☉')\n",
    "ax.set_ylabel('span in Ga')\n",
    "ax.legend()\n",
    "plt.show()"
   ]
  },
  {
   "cell_type": "markdown",
   "id": "68a70a6d-8ca2-4a00-b448-976d645c3477",
   "metadata": {},
   "source": [
    "*All m_span predicted values for mass \\[.45, 2.0\\] must be greater than 0*"
   ]
  },
  {
   "cell_type": "code",
   "execution_count": 57,
   "id": "ca47ea29-0876-4257-a58c-78c156b94d22",
   "metadata": {},
   "outputs": [
    {
     "data": {
      "text/plain": [
       "True"
      ]
     },
     "execution_count": 57,
     "metadata": {},
     "output_type": "execute_result"
    }
   ],
   "source": [
    "all(v >= 0 for v in m_span)"
   ]
  },
  {
   "cell_type": "markdown",
   "id": "730a5e50-9007-436e-993f-6fd73b2de32a",
   "metadata": {},
   "source": [
    "### S-Span fit\n",
    "*Fit of sspan values as $ae^{bx}$*"
   ]
  },
  {
   "cell_type": "code",
   "execution_count": 61,
   "id": "0690ea3c-cca6-4fa3-a6c7-a32971cef5e7",
   "metadata": {},
   "outputs": [
    {
     "data": {
      "text/plain": [
       "(18.445568275396568, -2.471832533773299)"
      ]
     },
     "execution_count": 61,
     "metadata": {},
     "output_type": "execute_result"
    }
   ],
   "source": [
    "df_filtered = df[df.index >= .95]\n",
    "x = df_filtered.index\n",
    "y = df_filtered.s_span\n",
    "popt, _ = curve_fit(lambda x, a, b: a * np.exp(b * x), x, y)\n",
    "a, b = popt\n",
    "a, b"
   ]
  },
  {
   "cell_type": "code",
   "execution_count": 62,
   "id": "e8028de6-78cc-4397-bd89-ae3907a00783",
   "metadata": {},
   "outputs": [
    {
     "data": {
      "text/plain": [
       "0.9903685923306617"
      ]
     },
     "execution_count": 62,
     "metadata": {},
     "output_type": "execute_result"
    }
   ],
   "source": [
    "s_span = x.map(lambda x: a * np.exp(b * x))\n",
    "r2 = 1 - (np.sum((y - s_span) ** 2) / np.sum((y - np.mean(y)) ** 2))\n",
    "r2"
   ]
  },
  {
   "cell_type": "code",
   "execution_count": 68,
   "id": "f7320d23-d7cd-486b-9132-d84149675bb7",
   "metadata": {},
   "outputs": [
    {
     "data": {
      "image/png": "[encoded data removed]",
      "text/plain": [
       "<Figure size 432x288 with 1 Axes>"
      ]
     },
     "metadata": {
      "needs_background": "light"
     },
     "output_type": "display_data"
    }
   ],
   "source": [
    "_, ax = plt.subplots()\n",
    "ax.set_title(r\"S-Span fit as $ae^{bx}$\")\n",
    "ax.plot(x, y, 'o', label='S-Span')\n",
    "ax.plot(x, s_span, '-', label='S-Span fit')\n",
    "ax.set_xlabel('mass in M☉')\n",
    "ax.set_ylabel('span in Ga')\n",
    "ax.legend()\n",
    "plt.show()"
   ]
  },
  {
   "cell_type": "markdown",
   "id": "bf610c93-dd64-403b-91a6-c16ffaad8d29",
   "metadata": {},
   "source": [
    "*All s_span predicted values for mass \\[.95, 2.0\\] must be greater than 0*"
   ]
  },
  {
   "cell_type": "code",
   "execution_count": 66,
   "id": "32a599b9-dd47-4930-b6c4-0c919196d905",
   "metadata": {},
   "outputs": [
    {
     "data": {
      "text/plain": [
       "True"
      ]
     },
     "execution_count": 66,
     "metadata": {},
     "output_type": "execute_result"
    }
   ],
   "source": [
    "all(v >= 0 for v in s_span)"
   ]
  },
  {
   "cell_type": "markdown",
   "id": "6e622022-e233-4786-a844-649c8d93bd41",
   "metadata": {},
   "source": [
    "### G-Span fit\n",
    "*Fit of gspan values as $ae^{bx}$*"
   ]
  },
  {
   "cell_type": "code",
   "execution_count": 70,
   "id": "ae1246ef-3f32-49c8-991b-c321f28a5a0f",
   "metadata": {},
   "outputs": [
    {
     "data": {
      "text/plain": [
       "(11.045171731219448, -2.4574060414344223)"
      ]
     },
     "execution_count": 70,
     "metadata": {},
     "output_type": "execute_result"
    }
   ],
   "source": [
    "df_filtered = df[df.index >= .95]\n",
    "x = df_filtered.index\n",
    "y = df_filtered.g_span\n",
    "popt, _ = curve_fit(lambda x, a, b: a * np.exp(b * x), x, y)\n",
    "a, b = popt\n",
    "a, b"
   ]
  },
  {
   "cell_type": "code",
   "execution_count": 72,
   "id": "30eff70d-155a-4748-a1da-b04f8d270ec7",
   "metadata": {},
   "outputs": [
    {
     "data": {
      "text/plain": [
       "0.984675206966851"
      ]
     },
     "execution_count": 72,
     "metadata": {},
     "output_type": "execute_result"
    }
   ],
   "source": [
    "g_span = x.map(lambda x: a * np.exp(b * x))\n",
    "r2 = 1 - (np.sum((y - g_span) ** 2) / np.sum((y - np.mean(y)) ** 2))\n",
    "r2"
   ]
  },
  {
   "cell_type": "code",
   "execution_count": 73,
   "id": "8fadce5e-e660-42db-854f-c7a2e295a726",
   "metadata": {},
   "outputs": [
    {
     "data": {
      "image/png": "[encoded data removed]",
      "text/plain": [
       "<Figure size 432x288 with 1 Axes>"
      ]
     },
     "metadata": {
      "needs_background": "light"
     },
     "output_type": "display_data"
    }
   ],
   "source": [
    "_, ax = plt.subplots()\n",
    "ax.set_title(r\"G-Span fit as $ae^{bx}$\")\n",
    "ax.plot(x, y, 'o', label='G-Span')\n",
    "ax.plot(x, g_span, '-', label='G-Span fit')\n",
    "ax.set_xlabel('mass in M☉')\n",
    "ax.set_ylabel('span in Ga')\n",
    "ax.legend()\n",
    "plt.show()"
   ]
  },
  {
   "cell_type": "markdown",
   "id": "71e31ba5-24ea-4a5f-9ea1-0c32b4c3ca29",
   "metadata": {},
   "source": [
    "*All g_span predicted values for mass \\[.95, 2.0\\] must be greater than 0*"
   ]
  },
  {
   "cell_type": "code",
   "execution_count": 74,
   "id": "707a183e-d5a4-41b1-a00b-1d65b24feb22",
   "metadata": {},
   "outputs": [
    {
     "data": {
      "text/plain": [
       "True"
      ]
     },
     "execution_count": 74,
     "metadata": {},
     "output_type": "execute_result"
    }
   ],
   "source": [
    "all(v >= 0 for v in g_span)"
   ]
  },
  {
   "cell_type": "code",
   "execution_count": null,
   "id": "8e2d2bac-db24-4e32-830a-11099780c5b8",
   "metadata": {},
   "outputs": [],
   "source": []
  }
 ],
 "metadata": {
  "interpreter": {
   "hash": "5cf38518820c2b8a9a448517a53e2c53d5f90b49f13a92d6618c75b5696ed76a"
  },
  "kernelspec": {
   "display_name": "Python 3 (ipykernel)",
   "language": "python",
   "name": "python3"
  },
  "language_info": {
   "codemirror_mode": {
    "name": "ipython",
    "version": 3
   },
   "file_extension": ".py",
   "mimetype": "text/x-python",
   "name": "python",
   "nbconvert_exporter": "python",
   "pygments_lexer": "ipython3",
   "version": "3.9.0"
  }
 },
 "nbformat": 4,
 "nbformat_minor": 5
}
