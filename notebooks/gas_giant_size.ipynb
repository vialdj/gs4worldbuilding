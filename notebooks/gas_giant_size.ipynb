{
 "cells": [
  {
   "cell_type": "markdown",
   "metadata": {},
   "source": [
    "# Gas Giant Size Table distribution fit\n",
    "*Parse table from csv file*"
   ]
  },
  {
   "cell_type": "code",
   "execution_count": 90,
   "metadata": {},
   "outputs": [
    {
     "data": {
      "text/html": [
       "<div>\n",
       "<style scoped>\n",
       "    .dataframe tbody tr th:only-of-type {\n",
       "        vertical-align: middle;\n",
       "    }\n",
       "\n",
       "    .dataframe tbody tr th {\n",
       "        vertical-align: top;\n",
       "    }\n",
       "\n",
       "    .dataframe thead th {\n",
       "        text-align: right;\n",
       "    }\n",
       "</style>\n",
       "<table border=\"1\" class=\"dataframe\">\n",
       "  <thead>\n",
       "    <tr style=\"text-align: right;\">\n",
       "      <th></th>\n",
       "      <th>s_mass</th>\n",
       "      <th>s_density</th>\n",
       "      <th>m_mass</th>\n",
       "      <th>m_density</th>\n",
       "      <th>l_mass</th>\n",
       "      <th>l_density</th>\n",
       "      <th>p</th>\n",
       "    </tr>\n",
       "  </thead>\n",
       "  <tbody>\n",
       "    <tr>\n",
       "      <th>0</th>\n",
       "      <td>10</td>\n",
       "      <td>0.42</td>\n",
       "      <td>100</td>\n",
       "      <td>0.18</td>\n",
       "      <td>600</td>\n",
       "      <td>0.31</td>\n",
       "      <td>0.259259</td>\n",
       "    </tr>\n",
       "    <tr>\n",
       "      <th>1</th>\n",
       "      <td>15</td>\n",
       "      <td>0.26</td>\n",
       "      <td>150</td>\n",
       "      <td>0.19</td>\n",
       "      <td>800</td>\n",
       "      <td>0.35</td>\n",
       "      <td>0.240741</td>\n",
       "    </tr>\n",
       "    <tr>\n",
       "      <th>2</th>\n",
       "      <td>20</td>\n",
       "      <td>0.22</td>\n",
       "      <td>200</td>\n",
       "      <td>0.20</td>\n",
       "      <td>1000</td>\n",
       "      <td>0.40</td>\n",
       "      <td>0.125000</td>\n",
       "    </tr>\n",
       "    <tr>\n",
       "      <th>3</th>\n",
       "      <td>30</td>\n",
       "      <td>0.19</td>\n",
       "      <td>250</td>\n",
       "      <td>0.22</td>\n",
       "      <td>1500</td>\n",
       "      <td>0.60</td>\n",
       "      <td>0.115741</td>\n",
       "    </tr>\n",
       "    <tr>\n",
       "      <th>4</th>\n",
       "      <td>40</td>\n",
       "      <td>0.17</td>\n",
       "      <td>300</td>\n",
       "      <td>0.24</td>\n",
       "      <td>2000</td>\n",
       "      <td>0.80</td>\n",
       "      <td>0.097222</td>\n",
       "    </tr>\n",
       "  </tbody>\n",
       "</table>\n",
       "</div>"
      ],
      "text/plain": [
       "   s_mass  s_density  m_mass  m_density  l_mass  l_density         p\n",
       "0      10       0.42     100       0.18     600       0.31  0.259259\n",
       "1      15       0.26     150       0.19     800       0.35  0.240741\n",
       "2      20       0.22     200       0.20    1000       0.40  0.125000\n",
       "3      30       0.19     250       0.22    1500       0.60  0.115741\n",
       "4      40       0.17     300       0.24    2000       0.80  0.097222"
      ]
     },
     "execution_count": 90,
     "metadata": {},
     "output_type": "execute_result"
    }
   ],
   "source": [
    "from pandas import read_csv\n",
    "\n",
    "\n",
    "df = read_csv('gas_giant_size.csv')\n",
    "df.head()"
   ]
  },
  {
   "cell_type": "markdown",
   "metadata": {},
   "source": [
    "## Discrete probabilities\n",
    "*the p column contains probability of the consecutives dice rolls corresponding to the gas giant masses*"
   ]
  },
  {
   "cell_type": "code",
   "execution_count": 91,
   "metadata": {},
   "outputs": [
    {
     "data": {
      "text/plain": [
       "0.99537037"
      ]
     },
     "execution_count": 91,
     "metadata": {},
     "output_type": "execute_result"
    }
   ],
   "source": [
    "s_mass = df.s_mass\n",
    "m_mass = df.m_mass\n",
    "l_mass = df.l_mass\n",
    "y = df.p\n",
    "y.sum()"
   ]
  },
  {
   "cell_type": "markdown",
   "metadata": {},
   "source": [
    "*creating random samples of 1000 elements from given probabilities*"
   ]
  },
  {
   "cell_type": "code",
   "execution_count": 92,
   "metadata": {},
   "outputs": [],
   "source": [
    "from random import choices\n",
    "\n",
    "s_sample = choices(list(df.s_mass), weights=list(y), k=1000)\n",
    "m_sample = choices(list(df.m_mass), weights=list(y), k=1000)\n",
    "l_sample = choices(list(df.l_mass), weights=list(y), k=1000)"
   ]
  },
  {
   "cell_type": "code",
   "execution_count": 93,
   "metadata": {},
   "outputs": [
    {
     "data": {
      "text/plain": [
       "<Figure size 432x288 with 0 Axes>"
      ]
     },
     "metadata": {},
     "output_type": "display_data"
    },
    {
     "data": {
      "image/png": "[encoded data removed]",
      "text/plain": [
       "<Figure size 432x288 with 2 Axes>"
      ]
     },
     "metadata": {
      "needs_background": "light"
     },
     "output_type": "display_data"
    },
    {
     "data": {
      "image/png": "[encoded data removed]",
      "text/plain": [
       "<Figure size 432x288 with 2 Axes>"
      ]
     },
     "metadata": {
      "needs_background": "light"
     },
     "output_type": "display_data"
    },
    {
     "data": {
      "image/png": "[encoded data removed]",
      "text/plain": [
       "<Figure size 432x288 with 2 Axes>"
      ]
     },
     "metadata": {
      "needs_background": "light"
     },
     "output_type": "display_data"
    }
   ],
   "source": [
    "import matplotlib.pyplot as plt\n",
    "\n",
    "\n",
    "plt.figure(1)\n",
    "_, axs = plt.subplots(1, 2)\n",
    "axs[0].set_title(r\"P(s_mass)\")\n",
    "axs[0].plot(s_mass, y, 'o', label='P(s_mass)')\n",
    "axs[0].set_xlabel('mass in Mⴲ')\n",
    "axs[0].set_ylabel('P')\n",
    "axs[0].legend()\n",
    "axs[1].set_title(r\"Density(s_mass)\")\n",
    "axs[1].hist(s_sample, density=True, bins=len(s_mass), label='random sample density')\n",
    "axs[1].set_xlabel('mass in Mⴲ')\n",
    "axs[1].set_ylabel('Density')\n",
    "axs[1].legend()\n",
    "\n",
    "plt.figure(2)\n",
    "_, axs = plt.subplots(1, 2)\n",
    "axs[0].set_title(r\"P(m_mass)\")\n",
    "axs[0].plot(m_mass, y, 'o', label='P(m_mass)')\n",
    "axs[0].set_xlabel('mass in Mⴲ')\n",
    "axs[0].set_ylabel('P')\n",
    "axs[0].legend()\n",
    "axs[1].set_title(r\"Density(m_mass)\")\n",
    "axs[1].hist(m_sample, density=True, bins=len(m_mass), label='random sample density')\n",
    "axs[1].set_xlabel('mass in Mⴲ')\n",
    "axs[1].set_ylabel('Density')\n",
    "axs[1].legend()\n",
    "\n",
    "plt.figure(3)\n",
    "_, axs = plt.subplots(1, 2)\n",
    "axs[0].set_title(r\"P(l_mass)\")\n",
    "axs[0].plot(l_mass, y, 'o', label='P(l_mass)')\n",
    "axs[0].set_xlabel('mass in Mⴲ')\n",
    "axs[0].set_ylabel('P')\n",
    "axs[0].legend()\n",
    "axs[1].set_title(r\"Density(l_mass)\")\n",
    "axs[1].hist(l_sample, density=True, bins=len(l_mass), label='random sample density')\n",
    "axs[1].set_xlabel('mass in Mⴲ')\n",
    "axs[1].set_ylabel('Density')\n",
    "axs[1].legend()\n",
    "\n",
    "plt.show()"
   ]
  },
  {
   "cell_type": "markdown",
   "metadata": {},
   "source": [
    "## Continuous random variables fit\n",
    "*Fitting truncated exponential distributions to the random samples*"
   ]
  },
  {
   "cell_type": "markdown",
   "metadata": {},
   "source": [
    "### s_mass"
   ]
  },
  {
   "cell_type": "code",
   "execution_count": 94,
   "metadata": {},
   "outputs": [
    {
     "data": {
      "text/plain": [
       "(3.7646603611026315, 10, 18.59397483057348)"
      ]
     },
     "execution_count": 94,
     "metadata": {},
     "output_type": "execute_result"
    }
   ],
   "source": [
    "import numpy as np\n",
    "\n",
    "upper, lower = s_mass.max(), s_mass.min()\n",
    "mu = lower\n",
    "sigma = np.std(s_sample)\n",
    "b = (upper - lower) / sigma\n",
    "\n",
    "b, mu, sigma"
   ]
  },
  {
   "cell_type": "code",
   "execution_count": 95,
   "metadata": {},
   "outputs": [
    {
     "data": {
      "text/plain": [
       "KstestResult(statistic=0.513, pvalue=0.30549488839290095)"
      ]
     },
     "execution_count": 95,
     "metadata": {},
     "output_type": "execute_result"
    }
   ],
   "source": [
    "from scipy.stats import truncexpon\n",
    "from scipy.stats import kstest\n",
    "\n",
    "s_dist = truncexpon(b=b, loc=mu, scale=sigma)\n",
    "s_r = kstest(s_sample, [b, mu, sigma], 'truncexpon')\n",
    "\n",
    "s_r"
   ]
  },
  {
   "cell_type": "markdown",
   "metadata": {},
   "source": [
    "### m_mass"
   ]
  },
  {
   "cell_type": "code",
   "execution_count": 96,
   "metadata": {},
   "outputs": [
    {
     "data": {
      "text/plain": [
       "(3.8261665220840477, 100, 104.54328051099219)"
      ]
     },
     "execution_count": 96,
     "metadata": {},
     "output_type": "execute_result"
    }
   ],
   "source": [
    "import numpy as np\n",
    "\n",
    "upper, lower = m_mass.max(), m_mass.min()\n",
    "mu = lower\n",
    "sigma = np.std(m_sample)\n",
    "b = (upper - lower) / sigma\n",
    "\n",
    "b, mu, sigma"
   ]
  },
  {
   "cell_type": "code",
   "execution_count": 97,
   "metadata": {},
   "outputs": [
    {
     "data": {
      "text/plain": [
       "KstestResult(statistic=0.74, pvalue=0.035754014404888235)"
      ]
     },
     "execution_count": 97,
     "metadata": {},
     "output_type": "execute_result"
    }
   ],
   "source": [
    "from scipy.stats import truncexpon\n",
    "from scipy.stats import kstest\n",
    "\n",
    "m_dist = truncexpon(b=b, loc=mu, scale=sigma)\n",
    "m_r = kstest(m_sample, [b, mu, sigma], 'truncexpon')\n",
    "\n",
    "m_r"
   ]
  },
  {
   "cell_type": "markdown",
   "metadata": {},
   "source": [
    "### l_mass"
   ]
  },
  {
   "cell_type": "code",
   "execution_count": 103,
   "metadata": {},
   "outputs": [
    {
     "data": {
      "text/plain": [
       "(3.954762512436468, 600, 859.7229262966065)"
      ]
     },
     "execution_count": 103,
     "metadata": {},
     "output_type": "execute_result"
    }
   ],
   "source": [
    "import numpy as np\n",
    "\n",
    "upper, lower = l_mass.max(), l_mass.min()\n",
    "mu = lower\n",
    "sigma = np.std(l_sample)\n",
    "b = (upper - lower) / sigma\n",
    "\n",
    "b, mu, sigma"
   ]
  },
  {
   "cell_type": "code",
   "execution_count": 105,
   "metadata": {},
   "outputs": [
    {
     "data": {
      "text/plain": [
       "KstestResult(statistic=0.477, pvalue=0.39080748983376423)"
      ]
     },
     "execution_count": 105,
     "metadata": {},
     "output_type": "execute_result"
    }
   ],
   "source": [
    "from scipy.stats import truncexpon\n",
    "from scipy.stats import kstest\n",
    "\n",
    "l_dist = truncexpon(b=b, loc=mu, scale=sigma)\n",
    "l_r = kstest(l_sample, [b, mu, sigma], 'truncexpon')\n",
    "\n",
    "l_r"
   ]
  },
  {
   "cell_type": "markdown",
   "metadata": {},
   "source": [
    "*Density function from the fitted continuous random variable*"
   ]
  },
  {
   "cell_type": "code",
   "execution_count": 107,
   "metadata": {},
   "outputs": [],
   "source": [
    "s_pdf =  [s_dist.pdf(xi) for xi in s_mass]\n",
    "m_pdf =  [m_dist.pdf(xi) for xi in m_mass]\n",
    "l_pdf =  [l_dist.pdf(xi) for xi in l_mass]"
   ]
  },
  {
   "cell_type": "markdown",
   "metadata": {},
   "source": [
    "*Creating random sample of 1000 elements from the fitted continuous random variable*"
   ]
  },
  {
   "cell_type": "code",
   "execution_count": 106,
   "metadata": {},
   "outputs": [],
   "source": [
    "s_fit_sample = s_dist.rvs(size=10000)\n",
    "m_fit_sample = m_dist.rvs(size=10000)\n",
    "l_fit_sample = l_dist.rvs(size=10000)"
   ]
  },
  {
   "cell_type": "code",
   "execution_count": 102,
   "metadata": {},
   "outputs": [
    {
     "data": {
      "text/plain": [
       "<Figure size 432x288 with 0 Axes>"
      ]
     },
     "metadata": {},
     "output_type": "display_data"
    },
    {
     "data": {
      "image/png": "[encoded data removed]",
      "text/plain": [
       "<Figure size 432x288 with 1 Axes>"
      ]
     },
     "metadata": {
      "needs_background": "light"
     },
     "output_type": "display_data"
    },
    {
     "data": {
      "text/plain": [
       "<Figure size 432x288 with 0 Axes>"
      ]
     },
     "metadata": {},
     "output_type": "display_data"
    },
    {
     "data": {
      "image/png": "[encoded data removed]",
      "text/plain": [
       "<Figure size 432x288 with 1 Axes>"
      ]
     },
     "metadata": {
      "needs_background": "light"
     },
     "output_type": "display_data"
    }
   ],
   "source": [
    "plt.figure(1)\n",
    "_, ax = plt.subplots()\n",
    "ax.set_title(r\"s_mass continuous random variable fit\")\n",
    "ax.hist(s_fit_sample, density=True, histtype='step', bins=len(s_mass), label='fit random sample density')\n",
    "ax.hist(s_sample, density=True, histtype='step', bins=len(s_mass), label='random sample density')\n",
    "ax.plot(s_mass, s_pdf, '-', label='fit probability density function')\n",
    "ax.set_xlabel('mass in Mⴲ')\n",
    "ax.set_ylabel('Density')\n",
    "ax.legend()\n",
    "plt.show()\n",
    "\n",
    "plt.figure(2)\n",
    "_, ax = plt.subplots()\n",
    "ax.set_title(r\"m_mass continuous random variable fit\")\n",
    "ax.hist(m_fit_sample, density=True, histtype='step', bins=len(m_mass), label='fit random sample density')\n",
    "ax.hist(m_sample, density=True, histtype='step', bins=len(m_mass), label='random sample density')\n",
    "ax.plot(m_mass, m_pdf, '-', label='fit probability density function')\n",
    "ax.set_xlabel('mass in Mⴲ')\n",
    "ax.set_ylabel('Density')\n",
    "ax.legend()\n",
    "plt.show()\n",
    "\n",
    "plt.figure(2)\n",
    "_, ax = plt.subplots()\n",
    "ax.set_title(r\"l_mass continuous random variable fit\")\n",
    "ax.hist(m_fit_sample, density=True, histtype='step', bins=len(m_mass), label='fit random sample density')\n",
    "ax.hist(m_sample, density=True, histtype='step', bins=len(m_mass), label='random sample density')\n",
    "ax.plot(m_mass, m_pdf, '-', label='fit probability density function')\n",
    "ax.set_xlabel('mass in Mⴲ')\n",
    "ax.set_ylabel('Density')\n",
    "ax.legend()\n",
    "plt.show()"
   ]
  },
  {
   "cell_type": "markdown",
   "metadata": {},
   "source": [
    "*All generated values in sample must be in interval [10, 80]*"
   ]
  },
  {
   "cell_type": "code",
   "execution_count": 59,
   "metadata": {},
   "outputs": [
    {
     "data": {
      "text/plain": [
       "True"
      ]
     },
     "execution_count": 59,
     "metadata": {},
     "output_type": "execute_result"
    }
   ],
   "source": [
    "all(v >= s_mass.min() and v <= s_mass.max() for v in s_fit_sample)"
   ]
  },
  {
   "cell_type": "markdown",
   "metadata": {},
   "source": [
    "## Fitting density\n",
    "*Fit of density values*"
   ]
  },
  {
   "cell_type": "code",
   "execution_count": 60,
   "metadata": {},
   "outputs": [],
   "source": [
    "s_density = df.s_density\n",
    "m_density = df.m_density\n",
    "l_density = df.l_density"
   ]
  },
  {
   "cell_type": "markdown",
   "metadata": {},
   "source": [
    "### s_density"
   ]
  },
  {
   "cell_type": "code",
   "execution_count": 68,
   "metadata": {},
   "outputs": [
    {
     "data": {
      "text/plain": [
       "(74.43464003356911, -2.473690314600168)"
      ]
     },
     "execution_count": 68,
     "metadata": {},
     "output_type": "execute_result"
    }
   ],
   "source": [
    "from scipy.optimize import curve_fit\n",
    "\n",
    "c = s_density.min()\n",
    "popt, _ = curve_fit(lambda x, a, b: a * x ** b + c, s_mass, s_density)\n",
    "a, b = popt\n",
    "a, b"
   ]
  },
  {
   "cell_type": "markdown",
   "metadata": {},
   "source": [
    "*Predict and score interpollated values with a $r^2$ fitness score*"
   ]
  },
  {
   "cell_type": "code",
   "execution_count": 69,
   "metadata": {},
   "outputs": [
    {
     "data": {
      "text/plain": [
       "0.9974009521888039"
      ]
     },
     "execution_count": 69,
     "metadata": {},
     "output_type": "execute_result"
    }
   ],
   "source": [
    "p_s_density = s_mass.map(lambda x: a * x ** b + c)\n",
    "r2 = 1 - (np.sum((s_density - p_s_density) ** 2) / np.sum((s_density - np.mean(s_density)) ** 2))\n",
    "r2"
   ]
  },
  {
   "cell_type": "markdown",
   "metadata": {},
   "source": [
    "### m_density"
   ]
  },
  {
   "cell_type": "code",
   "execution_count": 76,
   "metadata": {},
   "outputs": [
    {
     "data": {
      "text/plain": [
       "(0.0002766666669434452, 0.15033333325029977)"
      ]
     },
     "execution_count": 76,
     "metadata": {},
     "output_type": "execute_result"
    }
   ],
   "source": [
    "from scipy.optimize import curve_fit\n",
    "\n",
    "popt, _ = curve_fit(lambda x, a, b: a * x + b, m_mass, m_density)\n",
    "a, b = popt\n",
    "a, b"
   ]
  },
  {
   "cell_type": "markdown",
   "metadata": {},
   "source": [
    "*Predict and score interpollated values with a $r^2$ fitness score*"
   ]
  },
  {
   "cell_type": "code",
   "execution_count": 77,
   "metadata": {},
   "outputs": [
    {
     "data": {
      "text/plain": [
       "0.9897988505747127"
      ]
     },
     "execution_count": 77,
     "metadata": {},
     "output_type": "execute_result"
    }
   ],
   "source": [
    "p_m_density = m_mass.map(lambda x: a * x + b)\n",
    "r2 = 1 - (np.sum((m_density - p_m_density) ** 2) / np.sum((m_density - np.mean(m_density)) ** 2))\n",
    "r2"
   ]
  },
  {
   "cell_type": "markdown",
   "metadata": {},
   "source": [
    "### l_density"
   ]
  },
  {
   "cell_type": "code",
   "execution_count": 81,
   "metadata": {},
   "outputs": [
    {
     "data": {
      "text/plain": [
       "(0.0003880597018732323, 0.036185736947409355)"
      ]
     },
     "execution_count": 81,
     "metadata": {},
     "output_type": "execute_result"
    }
   ],
   "source": [
    "from scipy.optimize import curve_fit\n",
    "\n",
    "popt, _ = curve_fit(lambda x, a, b: a * x + b, l_mass, l_density)\n",
    "a, b = popt\n",
    "a, b"
   ]
  },
  {
   "cell_type": "markdown",
   "metadata": {},
   "source": [
    "*Predict and score interpollated values with a $r^2$ fitness score*"
   ]
  },
  {
   "cell_type": "code",
   "execution_count": 82,
   "metadata": {},
   "outputs": [
    {
     "data": {
      "text/plain": [
       "0.9983675971405509"
      ]
     },
     "execution_count": 82,
     "metadata": {},
     "output_type": "execute_result"
    }
   ],
   "source": [
    "p_l_density = l_mass.map(lambda x: a * x + b)\n",
    "r2 = 1 - (np.sum((l_density - p_l_density) ** 2) / np.sum((l_density - np.mean(l_density)) ** 2))\n",
    "r2"
   ]
  },
  {
   "cell_type": "code",
   "execution_count": 85,
   "metadata": {},
   "outputs": [
    {
     "data": {
      "text/plain": [
       "<Figure size 432x288 with 0 Axes>"
      ]
     },
     "metadata": {},
     "output_type": "display_data"
    },
    {
     "data": {
      "image/png": "[encoded data removed]",
      "text/plain": [
       "<Figure size 432x288 with 1 Axes>"
      ]
     },
     "metadata": {
      "needs_background": "light"
     },
     "output_type": "display_data"
    },
    {
     "data": {
      "image/png": "[encoded data removed]",
      "text/plain": [
       "<Figure size 432x288 with 1 Axes>"
      ]
     },
     "metadata": {
      "needs_background": "light"
     },
     "output_type": "display_data"
    },
    {
     "data": {
      "image/png": "[encoded data removed]",
      "text/plain": [
       "<Figure size 432x288 with 1 Axes>"
      ]
     },
     "metadata": {
      "needs_background": "light"
     },
     "output_type": "display_data"
    }
   ],
   "source": [
    "import matplotlib.pyplot as plt\n",
    "\n",
    "\n",
    "plt.figure(1)\n",
    "_, ax = plt.subplots()\n",
    "ax.set_title(r\"Density fit (Small) as $ax^b+c$\")\n",
    "ax.plot(s_mass, s_density, 'o', label='Density')\n",
    "ax.plot(s_mass, p_s_density, '-', label='Density fit')\n",
    "ax.set_xlabel('mass in Mⴲ')\n",
    "ax.set_ylabel('Density in dⴲ')\n",
    "ax.legend()\n",
    "\n",
    "plt.figure(2)\n",
    "_, ax = plt.subplots()\n",
    "ax.set_title(r\"Density fit (Medium) as $ax+b$\")\n",
    "ax.plot(m_mass, m_density, 'o', label='Density')\n",
    "ax.plot(m_mass, p_m_density, '-', label='Density fit')\n",
    "ax.set_xlabel('mass in Mⴲ')\n",
    "ax.set_ylabel('Density in dⴲ')\n",
    "ax.legend()\n",
    "\n",
    "plt.figure(3)\n",
    "_, ax = plt.subplots()\n",
    "ax.set_title(r\"Density fit (Large)\")\n",
    "ax.plot(l_mass, l_density, 'o', label='Density')\n",
    "ax.plot(l_mass, p_l_density, '-', label='Density')\n",
    "ax.set_xlabel('mass in Mⴲ')\n",
    "ax.set_ylabel('Density in dⴲ')\n",
    "ax.legend()\n",
    "\n",
    "plt.show()"
   ]
  }
 ],
 "metadata": {
  "interpreter": {
   "hash": "5cf38518820c2b8a9a448517a53e2c53d5f90b49f13a92d6618c75b5696ed76a"
  },
  "kernelspec": {
   "display_name": "Python 3.9.0 64-bit",
   "name": "python3"
  },
  "language_info": {
   "codemirror_mode": {
    "name": "ipython",
    "version": 3
   },
   "file_extension": ".py",
   "mimetype": "text/x-python",
   "name": "python",
   "nbconvert_exporter": "python",
   "pygments_lexer": "ipython3",
   "version": "3.9.0"
  }
 },
 "nbformat": 4,
 "nbformat_minor": 4
}
