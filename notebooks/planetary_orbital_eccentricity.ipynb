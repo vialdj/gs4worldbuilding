{
 "cells": [
  {
   "cell_type": "markdown",
   "metadata": {},
   "source": [
    "# Planetary Eccentricity Table distribution fit\n",
    "*Parse table from csv file*"
   ]
  },
  {
   "cell_type": "code",
   "execution_count": 42,
   "metadata": {},
   "outputs": [
    {
     "data": {
      "text/html": [
       "<div>\n",
       "<style scoped>\n",
       "    .dataframe tbody tr th:only-of-type {\n",
       "        vertical-align: middle;\n",
       "    }\n",
       "\n",
       "    .dataframe tbody tr th {\n",
       "        vertical-align: top;\n",
       "    }\n",
       "\n",
       "    .dataframe thead th {\n",
       "        text-align: right;\n",
       "    }\n",
       "</style>\n",
       "<table border=\"1\" class=\"dataframe\">\n",
       "  <thead>\n",
       "    <tr style=\"text-align: right;\">\n",
       "      <th></th>\n",
       "      <th>eccentricity</th>\n",
       "      <th>p</th>\n",
       "      <th>p_eccentric</th>\n",
       "      <th>p_conventional</th>\n",
       "    </tr>\n",
       "  </thead>\n",
       "  <tbody>\n",
       "    <tr>\n",
       "      <th>0</th>\n",
       "      <td>0.8</td>\n",
       "      <td>0.004630</td>\n",
       "      <td>0.162037</td>\n",
       "      <td>0.0</td>\n",
       "    </tr>\n",
       "    <tr>\n",
       "      <th>1</th>\n",
       "      <td>0.7</td>\n",
       "      <td>0.013889</td>\n",
       "      <td>0.097222</td>\n",
       "      <td>0.0</td>\n",
       "    </tr>\n",
       "    <tr>\n",
       "      <th>2</th>\n",
       "      <td>0.6</td>\n",
       "      <td>0.027778</td>\n",
       "      <td>0.115741</td>\n",
       "      <td>0.0</td>\n",
       "    </tr>\n",
       "    <tr>\n",
       "      <th>3</th>\n",
       "      <td>0.5</td>\n",
       "      <td>0.046296</td>\n",
       "      <td>0.125000</td>\n",
       "      <td>0.0</td>\n",
       "    </tr>\n",
       "    <tr>\n",
       "      <th>4</th>\n",
       "      <td>0.4</td>\n",
       "      <td>0.069444</td>\n",
       "      <td>0.125000</td>\n",
       "      <td>0.0</td>\n",
       "    </tr>\n",
       "  </tbody>\n",
       "</table>\n",
       "</div>"
      ],
      "text/plain": [
       "   eccentricity         p  p_eccentric  p_conventional\n",
       "0           0.8  0.004630     0.162037             0.0\n",
       "1           0.7  0.013889     0.097222             0.0\n",
       "2           0.6  0.027778     0.115741             0.0\n",
       "3           0.5  0.046296     0.125000             0.0\n",
       "4           0.4  0.069444     0.125000             0.0"
      ]
     },
     "execution_count": 42,
     "metadata": {},
     "output_type": "execute_result"
    }
   ],
   "source": [
    "from pandas import read_csv\n",
    "\n",
    "\n",
    "df = read_csv('planetary_orbital_eccentricity.csv')\n",
    "df.head()"
   ]
  },
  {
   "cell_type": "markdown",
   "metadata": {},
   "source": [
    "## Discrete probabilities\n",
    "*the p column contains probability of the dice rolls corresponding to the eccentricities*"
   ]
  },
  {
   "cell_type": "code",
   "execution_count": 43,
   "metadata": {},
   "outputs": [
    {
     "data": {
      "text/plain": [
       "1.0"
      ]
     },
     "execution_count": 43,
     "metadata": {},
     "output_type": "execute_result"
    }
   ],
   "source": [
    "x = df.eccentricity\n",
    "y = df.p\n",
    "\n",
    "y.sum()"
   ]
  },
  {
   "cell_type": "markdown",
   "metadata": {},
   "source": [
    "*creating random sample of 1000 elements from given probabilities*"
   ]
  },
  {
   "cell_type": "code",
   "execution_count": 44,
   "metadata": {},
   "outputs": [],
   "source": [
    "from random import choices\n",
    "\n",
    "sample = choices(list(x), weights=list(y), k=1000)\n"
   ]
  },
  {
   "cell_type": "code",
   "execution_count": 45,
   "metadata": {},
   "outputs": [
    {
     "data": {
      "image/png": "[encoded data removed]",
      "text/plain": [
       "<Figure size 432x288 with 2 Axes>"
      ]
     },
     "metadata": {
      "needs_background": "light"
     },
     "output_type": "display_data"
    }
   ],
   "source": [
    "import matplotlib.pyplot as plt\n",
    "\n",
    "\n",
    "_, axs = plt.subplots(1, 2)\n",
    "axs[0].set_title(r\"P(eccentricity)\")\n",
    "axs[0].plot(x, y, 'o', label='P(eccentricity)')\n",
    "axs[0].set_xlabel('eccentricity')\n",
    "axs[0].set_ylabel('P')\n",
    "axs[0].legend()\n",
    "axs[1].set_title(r\"Density(eccentricity)\")\n",
    "axs[1].hist(sample, density=True, bins=len(x), label='random sample density')\n",
    "axs[1].set_xlabel('eccentricity')\n",
    "axs[1].set_ylabel('Density')\n",
    "axs[1].legend()\n",
    "\n",
    "plt.show()"
   ]
  },
  {
   "cell_type": "markdown",
   "metadata": {},
   "source": [
    "## Continuous random variable fit\n",
    "*Fitting a truncated normal distribution to the random sample*"
   ]
  },
  {
   "cell_type": "code",
   "execution_count": 46,
   "metadata": {},
   "outputs": [
    {
     "data": {
      "text/plain": [
       "(-1.369476274013634, 3.9891983124911703, 0.20445, 0.1492906477311958)"
      ]
     },
     "execution_count": 46,
     "metadata": {},
     "output_type": "execute_result"
    }
   ],
   "source": [
    "\n",
    "import numpy as np\n",
    "\n",
    "xa, xb = x.min(), x.max()\n",
    "mu = np.mean(sample)\n",
    "sigma = np.std(sample)\n",
    "a, b = (xa - mu) / sigma, (xb - mu) / sigma\n",
    "\n",
    "a, b, mu, sigma "
   ]
  },
  {
   "cell_type": "code",
   "execution_count": 47,
   "metadata": {},
   "outputs": [
    {
     "data": {
      "text/plain": [
       "KstestResult(statistic=0.25, pvalue=0.9086576490372212)"
      ]
     },
     "execution_count": 47,
     "metadata": {},
     "output_type": "execute_result"
    }
   ],
   "source": [
    "from scipy.stats import truncnorm\n",
    "from scipy.stats import kstest\n",
    "\n",
    "dist = truncnorm(a, b, mu, sigma)\n",
    "r = kstest(sample, [a, b, mu, sigma], 'truncnorm')\n",
    "r"
   ]
  },
  {
   "cell_type": "markdown",
   "metadata": {},
   "source": [
    "*Density function from the fitted continuous random variable*"
   ]
  },
  {
   "cell_type": "code",
   "execution_count": 48,
   "metadata": {},
   "outputs": [],
   "source": [
    "y_pdf =  [dist.pdf(xi) for xi in x]"
   ]
  },
  {
   "cell_type": "markdown",
   "metadata": {},
   "source": [
    "*Creating random sample of 1000 elements from the fitted continuous random variable*"
   ]
  },
  {
   "cell_type": "code",
   "execution_count": 49,
   "metadata": {},
   "outputs": [],
   "source": [
    "fit_sample = dist.rvs(size=1000)"
   ]
  },
  {
   "cell_type": "code",
   "execution_count": 50,
   "metadata": {},
   "outputs": [
    {
     "data": {
      "image/png": "[encoded data removed]",
      "text/plain": [
       "<Figure size 432x288 with 1 Axes>"
      ]
     },
     "metadata": {
      "needs_background": "light"
     },
     "output_type": "display_data"
    }
   ],
   "source": [
    "_, ax = plt.subplots()\n",
    "ax.set_title(r\"Eccentricity continuous random variable fit\")\n",
    "ax.hist(fit_sample, density=True, histtype='step', bins=len(x), label='fit random sample density')\n",
    "ax.hist(sample, density=True, histtype='step', bins=len(x), label='random sample density')\n",
    "ax.plot(x, y_pdf, '-', label='fit probability density function')\n",
    "ax.set_xlabel('eccentricity')\n",
    "ax.set_ylabel('Density')\n",
    "ax.legend()\n",
    "plt.show()"
   ]
  },
  {
   "cell_type": "markdown",
   "metadata": {},
   "source": [
    "*All generated values in sample must be in interval [0, .8]*"
   ]
  },
  {
   "cell_type": "code",
   "execution_count": 51,
   "metadata": {},
   "outputs": [
    {
     "data": {
      "text/plain": [
       "True"
      ]
     },
     "execution_count": 51,
     "metadata": {},
     "output_type": "execute_result"
    }
   ],
   "source": [
    "all(v >= x.min() and v <= x.max() for v in fit_sample)"
   ]
  },
  {
   "cell_type": "markdown",
   "metadata": {},
   "source": [
    "## Discrete probabilities with modifiers\n",
    "*the p_eccentric and p_conventional columns contains modified probability of the dice rolls corresponding to the eccentricities the gas giant arrangement*"
   ]
  },
  {
   "cell_type": "markdown",
   "metadata": {},
   "source": [
    "### Eccentric modifier"
   ]
  },
  {
   "cell_type": "code",
   "execution_count": 52,
   "metadata": {},
   "outputs": [
    {
     "data": {
      "text/plain": [
       "1.0"
      ]
     },
     "execution_count": 52,
     "metadata": {},
     "output_type": "execute_result"
    }
   ],
   "source": [
    "x_eccentric = df.eccentricity[df.p_eccentric > 0]\n",
    "y_eccentric = df.p_eccentric[df.p_eccentric > 0]\n",
    "\n",
    "y_eccentric.sum()"
   ]
  },
  {
   "cell_type": "markdown",
   "metadata": {},
   "source": [
    "*creating random sample of 1000 elements from given probabilities*"
   ]
  },
  {
   "cell_type": "code",
   "execution_count": 53,
   "metadata": {},
   "outputs": [],
   "source": [
    "sample_eccentric = choices(list(x_eccentric), weights=list(y_eccentric), k=1000)"
   ]
  },
  {
   "cell_type": "code",
   "execution_count": 54,
   "metadata": {},
   "outputs": [
    {
     "data": {
      "text/plain": [
       "<matplotlib.legend.Legend at 0x25d038dfd30>"
      ]
     },
     "execution_count": 54,
     "metadata": {},
     "output_type": "execute_result"
    },
    {
     "data": {
      "image/png": "[encoded data removed]",
      "text/plain": [
       "<Figure size 432x288 with 2 Axes>"
      ]
     },
     "metadata": {
      "needs_background": "light"
     },
     "output_type": "display_data"
    }
   ],
   "source": [
    "_, axs = plt.subplots(1, 2)\n",
    "axs[0].set_title(r\"P(eccentricity)\")\n",
    "axs[0].plot(x_eccentric, y_eccentric, 'o', label='P(eccentricity)')\n",
    "axs[0].set_xlabel('eccentricity')\n",
    "axs[0].set_ylabel('P')\n",
    "axs[0].legend()\n",
    "axs[1].set_title(r\"Density(eccentricity)\")\n",
    "axs[1].hist(sample_eccentric, density=True, bins=len(x_eccentric), label='random sample density')\n",
    "axs[1].set_xlabel('eccentricity')\n",
    "axs[1].set_ylabel('Density')\n",
    "axs[1].legend()"
   ]
  },
  {
   "cell_type": "markdown",
   "metadata": {},
   "source": [
    "### Conventional modifier"
   ]
  },
  {
   "cell_type": "code",
   "execution_count": 55,
   "metadata": {},
   "outputs": [
    {
     "data": {
      "text/plain": [
       "1.0"
      ]
     },
     "execution_count": 55,
     "metadata": {},
     "output_type": "execute_result"
    }
   ],
   "source": [
    "x_conventional = df.eccentricity[df.p_conventional > 0]\n",
    "y_conventional = df.p_conventional[df.p_conventional > 0]\n",
    "\n",
    "y_conventional.sum()"
   ]
  },
  {
   "cell_type": "markdown",
   "metadata": {},
   "source": [
    "*creating random sample of 1000 elements from given probabilities*"
   ]
  },
  {
   "cell_type": "code",
   "execution_count": 56,
   "metadata": {},
   "outputs": [],
   "source": [
    "sample_conventional = choices(list(x_conventional), weights=list(y_conventional), k=1000)"
   ]
  },
  {
   "cell_type": "code",
   "execution_count": 57,
   "metadata": {},
   "outputs": [
    {
     "data": {
      "text/plain": [
       "<matplotlib.legend.Legend at 0x25d03853f70>"
      ]
     },
     "execution_count": 57,
     "metadata": {},
     "output_type": "execute_result"
    },
    {
     "data": {
      "image/png": "[encoded data removed]",
      "text/plain": [
       "<Figure size 432x288 with 2 Axes>"
      ]
     },
     "metadata": {
      "needs_background": "light"
     },
     "output_type": "display_data"
    }
   ],
   "source": [
    "_, axs = plt.subplots(1, 2)\n",
    "axs[0].set_title(r\"P(eccentricity)\")\n",
    "axs[0].plot(x_conventional, y_conventional, 'o', label='P(eccentricity)')\n",
    "axs[0].set_xlabel('eccentricity')\n",
    "axs[0].set_ylabel('P')\n",
    "axs[0].legend()\n",
    "axs[1].set_title(r\"Density(eccentricity)\")\n",
    "axs[1].hist(sample_conventional, density=True, bins=len(x_conventional), label='random sample density')\n",
    "axs[1].set_xlabel('eccentricity')\n",
    "axs[1].set_ylabel('Density')\n",
    "axs[1].legend()"
   ]
  },
  {
   "cell_type": "markdown",
   "metadata": {},
   "source": [
    "## Continuous random variable fit on modified probabilities\n",
    "*Fitting distributions to the random samples*"
   ]
  },
  {
   "cell_type": "markdown",
   "metadata": {},
   "source": [
    "### Eccentric modifier\n",
    "*Fitting a truncated normal distribution*"
   ]
  },
  {
   "cell_type": "code",
   "execution_count": 58,
   "metadata": {},
   "outputs": [
    {
     "data": {
      "text/plain": [
       "(-1.5707277613767705, 1.4329860289899539, 0.46605, 0.23304484010593327)"
      ]
     },
     "execution_count": 58,
     "metadata": {},
     "output_type": "execute_result"
    }
   ],
   "source": [
    "xa, xb = x_eccentric.min(), x_eccentric.max()\n",
    "mu = np.mean(sample_eccentric)\n",
    "sigma = np.std(sample_eccentric)\n",
    "a, b = (xa - mu) / sigma, (xb - mu) / sigma\n",
    "\n",
    "a, b, mu, sigma "
   ]
  },
  {
   "cell_type": "code",
   "execution_count": 59,
   "metadata": {},
   "outputs": [
    {
     "data": {
      "text/plain": [
       "KstestResult(statistic=0.271, pvalue=0.8567136601244074)"
      ]
     },
     "execution_count": 59,
     "metadata": {},
     "output_type": "execute_result"
    }
   ],
   "source": [
    "dist_moderate = truncnorm(a, b, mu, sigma)\n",
    "r = kstest(sample_eccentric, [a, b, mu, sigma], 'truncnorm')\n",
    "r"
   ]
  },
  {
   "cell_type": "markdown",
   "metadata": {},
   "source": [
    "*Density function from the fitted continuous random variable*"
   ]
  },
  {
   "cell_type": "code",
   "execution_count": 60,
   "metadata": {},
   "outputs": [],
   "source": [
    "y_eccentric_pdf =  [dist_moderate.pdf(xi) for xi in x_eccentric]"
   ]
  },
  {
   "cell_type": "markdown",
   "metadata": {},
   "source": [
    "*Creating random sample of 1000 elements from the fitted continuous random variable*"
   ]
  },
  {
   "cell_type": "code",
   "execution_count": 61,
   "metadata": {},
   "outputs": [],
   "source": [
    "fit_sample_eccentric = dist_moderate.rvs(size=1000)"
   ]
  },
  {
   "cell_type": "code",
   "execution_count": 62,
   "metadata": {},
   "outputs": [
    {
     "data": {
      "image/png": "[encoded data removed]",
      "text/plain": [
       "<Figure size 432x288 with 1 Axes>"
      ]
     },
     "metadata": {
      "needs_background": "light"
     },
     "output_type": "display_data"
    }
   ],
   "source": [
    "_, ax = plt.subplots()\n",
    "ax.set_title(r\"\"\"Eccentricity continuous random variable fit\n",
    "with eccentric modifier\"\"\")\n",
    "ax.hist(fit_sample_eccentric, density=True, histtype='step', bins=len(x_eccentric), label='fit random sample density')\n",
    "ax.hist(sample_eccentric, density=True, histtype='step', bins=len(x_eccentric), label='random sample density')\n",
    "ax.plot(x_eccentric, y_eccentric_pdf, '-', label='fit probability density function')\n",
    "ax.set_xlabel('eccentricity')\n",
    "ax.set_ylabel('Density')\n",
    "ax.legend()\n",
    "plt.show()"
   ]
  },
  {
   "cell_type": "markdown",
   "metadata": {},
   "source": [
    "*All generated values in sample must be in interval [.1, .8]*"
   ]
  },
  {
   "cell_type": "code",
   "execution_count": 63,
   "metadata": {},
   "outputs": [
    {
     "data": {
      "text/plain": [
       "True"
      ]
     },
     "execution_count": 63,
     "metadata": {},
     "output_type": "execute_result"
    }
   ],
   "source": [
    "all(v >= x_eccentric.min() and v <= x_eccentric.max() for v in fit_sample_eccentric)"
   ]
  },
  {
   "cell_type": "markdown",
   "metadata": {},
   "source": [
    "### Conventional separation modifier\n",
    "*Fitting a truncated normal distribution*"
   ]
  },
  {
   "cell_type": "code",
   "execution_count": 64,
   "metadata": {},
   "outputs": [
    {
     "data": {
      "text/plain": [
       "(-1.1031415778324567,\n",
       " 3.522189985406355,\n",
       " 0.047700000000000006,\n",
       " 0.0432401433855162)"
      ]
     },
     "execution_count": 64,
     "metadata": {},
     "output_type": "execute_result"
    }
   ],
   "source": [
    "xa, xb = x_conventional.min(), x_conventional.max()\n",
    "mu = np.mean(sample_conventional)\n",
    "sigma = np.std(sample_conventional)\n",
    "a, b = (xa - mu) / sigma, (xb - mu) / sigma\n",
    "\n",
    "a, b, mu, sigma"
   ]
  },
  {
   "cell_type": "code",
   "execution_count": 65,
   "metadata": {},
   "outputs": [
    {
     "data": {
      "text/plain": [
       "KstestResult(statistic=0.4, pvalue=0.44092082902411933)"
      ]
     },
     "execution_count": 65,
     "metadata": {},
     "output_type": "execute_result"
    }
   ],
   "source": [
    "dist_close = truncnorm(a, b, mu, sigma)\n",
    "r = kstest(sample_conventional, [a, b, mu, sigma], 'truncnorm')\n",
    "r"
   ]
  },
  {
   "cell_type": "markdown",
   "metadata": {},
   "source": [
    "*Density function from the fitted continuous random variable*"
   ]
  },
  {
   "cell_type": "code",
   "execution_count": 66,
   "metadata": {},
   "outputs": [],
   "source": [
    "y_conventional_pdf =  [dist_close.pdf(xi) for xi in x_conventional]"
   ]
  },
  {
   "cell_type": "markdown",
   "metadata": {},
   "source": [
    "*Creating random sample of 1000 elements from the fitted continuous random variable*"
   ]
  },
  {
   "cell_type": "code",
   "execution_count": 67,
   "metadata": {},
   "outputs": [],
   "source": [
    "fit_sample_conventional = dist_close.rvs(size=1000)"
   ]
  },
  {
   "cell_type": "code",
   "execution_count": 68,
   "metadata": {},
   "outputs": [
    {
     "data": {
      "image/png": "[encoded data removed]",
      "text/plain": [
       "<Figure size 432x288 with 1 Axes>"
      ]
     },
     "metadata": {
      "needs_background": "light"
     },
     "output_type": "display_data"
    }
   ],
   "source": [
    "_, ax = plt.subplots()\n",
    "ax.set_title(r\"\"\"Eccentricity continuous random variable fit\n",
    "with conventional modifier\"\"\")\n",
    "ax.hist(fit_sample_conventional, density=True, histtype='step', bins=len(x_conventional), label='fit random sample density')\n",
    "ax.hist(sample_conventional, density=True, histtype='step', bins=len(x_conventional), label='random sample density')\n",
    "ax.plot(x_conventional, y_conventional_pdf, '-', label='fit probability density function')\n",
    "ax.set_xlabel('eccentricity')\n",
    "ax.set_ylabel('Density')\n",
    "ax.legend()\n",
    "plt.show()"
   ]
  },
  {
   "cell_type": "markdown",
   "metadata": {},
   "source": [
    "*All generated values in sample must be in interval [0, .2]*"
   ]
  },
  {
   "cell_type": "code",
   "execution_count": 69,
   "metadata": {},
   "outputs": [
    {
     "data": {
      "text/plain": [
       "True"
      ]
     },
     "execution_count": 69,
     "metadata": {},
     "output_type": "execute_result"
    }
   ],
   "source": [
    "all(v >= x_conventional.min() and v <= x_conventional.max() for v in fit_sample_conventional)"
   ]
  }
 ],
 "metadata": {
  "interpreter": {
   "hash": "5cf38518820c2b8a9a448517a53e2c53d5f90b49f13a92d6618c75b5696ed76a"
  },
  "kernelspec": {
   "display_name": "Python 3.9.0 64-bit",
   "name": "python3"
  },
  "language_info": {
   "codemirror_mode": {
    "name": "ipython",
    "version": 3
   },
   "file_extension": ".py",
   "mimetype": "text/x-python",
   "name": "python",
   "nbconvert_exporter": "python",
   "pygments_lexer": "ipython3",
   "version": "3.9.0"
  }
 },
 "nbformat": 4,
 "nbformat_minor": 4
}
