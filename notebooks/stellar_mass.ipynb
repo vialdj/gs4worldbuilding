{
 "cells": [
  {
   "cell_type": "markdown",
   "source": [
    "# Stellar Mass Table distribution fit\r\n",
    "*Parse table from csv file*"
   ],
   "metadata": {}
  },
  {
   "cell_type": "code",
   "execution_count": 425,
   "source": [
    "from pandas import read_csv\r\n",
    "\r\n",
    "\r\n",
    "df = read_csv('stellar_mass.csv')\r\n",
    "df.head()"
   ],
   "outputs": [
    {
     "output_type": "execute_result",
     "data": {
      "text/plain": [
       "   mass         p\n",
       "0   2.0  0.002315\n",
       "1   1.9  0.002315\n",
       "2   1.8  0.003601\n",
       "3   1.7  0.005080\n",
       "4   1.6  0.005209"
      ],
      "text/html": [
       "<div>\n",
       "<style scoped>\n",
       "    .dataframe tbody tr th:only-of-type {\n",
       "        vertical-align: middle;\n",
       "    }\n",
       "\n",
       "    .dataframe tbody tr th {\n",
       "        vertical-align: top;\n",
       "    }\n",
       "\n",
       "    .dataframe thead th {\n",
       "        text-align: right;\n",
       "    }\n",
       "</style>\n",
       "<table border=\"1\" class=\"dataframe\">\n",
       "  <thead>\n",
       "    <tr style=\"text-align: right;\">\n",
       "      <th></th>\n",
       "      <th>mass</th>\n",
       "      <th>p</th>\n",
       "    </tr>\n",
       "  </thead>\n",
       "  <tbody>\n",
       "    <tr>\n",
       "      <th>0</th>\n",
       "      <td>2.0</td>\n",
       "      <td>0.002315</td>\n",
       "    </tr>\n",
       "    <tr>\n",
       "      <th>1</th>\n",
       "      <td>1.9</td>\n",
       "      <td>0.002315</td>\n",
       "    </tr>\n",
       "    <tr>\n",
       "      <th>2</th>\n",
       "      <td>1.8</td>\n",
       "      <td>0.003601</td>\n",
       "    </tr>\n",
       "    <tr>\n",
       "      <th>3</th>\n",
       "      <td>1.7</td>\n",
       "      <td>0.005080</td>\n",
       "    </tr>\n",
       "    <tr>\n",
       "      <th>4</th>\n",
       "      <td>1.6</td>\n",
       "      <td>0.005209</td>\n",
       "    </tr>\n",
       "  </tbody>\n",
       "</table>\n",
       "</div>"
      ]
     },
     "metadata": {},
     "execution_count": 425
    }
   ],
   "metadata": {}
  },
  {
   "cell_type": "markdown",
   "source": [
    "## Discrete probabilities\n",
    "*the p column contains probability of the consecutives dice rolls corresponding to the star masses*"
   ],
   "metadata": {}
  },
  {
   "cell_type": "code",
   "execution_count": 426,
   "source": [
    "x = df.mass\r\n",
    "y = df.p\r\n",
    "df.p.sum()"
   ],
   "outputs": [
    {
     "output_type": "execute_result",
     "data": {
      "text/plain": [
       "0.9999999999999999"
      ]
     },
     "metadata": {},
     "execution_count": 426
    }
   ],
   "metadata": {}
  },
  {
   "cell_type": "markdown",
   "source": [
    "*creating random sample of 1000 elements from given probabilities*"
   ],
   "metadata": {}
  },
  {
   "cell_type": "code",
   "execution_count": 427,
   "source": [
    "from random import choices\r\n",
    "\r\n",
    "sample = choices(list(df.mass), weights=list(df.p), k=10000)"
   ],
   "outputs": [],
   "metadata": {}
  },
  {
   "cell_type": "code",
   "execution_count": 428,
   "source": [
    "import matplotlib.pyplot as plt\r\n",
    "\r\n",
    "\r\n",
    "_, axs = plt.subplots(1, 2)\r\n",
    "axs[0].set_title(r\"P(mass)\")\r\n",
    "axs[0].plot(x, y, 'o', label='P(mass)')\r\n",
    "axs[0].set_xlabel('mass in M☉')\r\n",
    "axs[0].set_ylabel('P')\r\n",
    "axs[0].legend()\r\n",
    "axs[1].set_title(r\"Density(mass)\")\r\n",
    "axs[1].hist(sample, density=True, histtype='stepfilled', alpha=0.2, label='random sample density')\r\n",
    "axs[1].set_xlabel('mass in M☉')\r\n",
    "axs[1].set_ylabel('Density')\r\n",
    "axs[1].legend()\r\n",
    "plt.show()"
   ],
   "outputs": [
    {
     "output_type": "display_data",
     "data": {
      "text/plain": [
       "<Figure size 432x288 with 2 Axes>"
      ],
      "image/png": "[encoded data removed]"
     },
     "metadata": {
      "needs_background": "light"
     }
    }
   ],
   "metadata": {}
  },
  {
   "cell_type": "markdown",
   "source": [
    "## Continuous random variable fit\r\n",
    "*Fitting a truncated exponential distribution to the random sample*"
   ],
   "metadata": {}
  },
  {
   "cell_type": "code",
   "execution_count": 441,
   "source": [
    "upper, lower = x.max(), x.min()\r\n",
    "mu = lower\r\n",
    "sigma = x.std() ** 2\r\n",
    "b = (upper - lower) / sigma\r\n",
    "\r\n",
    "b, mu, sigma"
   ],
   "outputs": [
    {
     "output_type": "execute_result",
     "data": {
      "text/plain": [
       "(6.642156099080852, 0.1, 0.28605169340463465)"
      ]
     },
     "metadata": {},
     "execution_count": 441
    }
   ],
   "metadata": {}
  },
  {
   "cell_type": "code",
   "execution_count": 430,
   "source": [
    "from scipy.stats import truncexpon\r\n",
    "from scipy.stats import kstest\r\n",
    "\r\n",
    "dist = truncexpon(b=b, loc=mu, scale=sigma)\r\n",
    "r = kstest(sample, [b, mu, sigma], 'truncexpon')\r\n",
    "r"
   ],
   "outputs": [
    {
     "output_type": "execute_result",
     "data": {
      "text/plain": [
       "KstestResult(statistic=0.3333333333333333, pvalue=0.7779776755964299)"
      ]
     },
     "metadata": {},
     "execution_count": 430
    }
   ],
   "metadata": {}
  },
  {
   "cell_type": "markdown",
   "source": [
    "*Density function from the fitted continuous random variable*"
   ],
   "metadata": {}
  },
  {
   "cell_type": "code",
   "execution_count": 431,
   "source": [
    "y_pdf =  [dist.pdf(xi) for xi in x]"
   ],
   "outputs": [],
   "metadata": {}
  },
  {
   "cell_type": "markdown",
   "source": [
    "*Creating random sample of 1000 elements from the fitted continuous random variable*"
   ],
   "metadata": {}
  },
  {
   "cell_type": "code",
   "execution_count": 432,
   "source": [
    "fit_sample = dist.rvs(size=10000)"
   ],
   "outputs": [],
   "metadata": {}
  },
  {
   "cell_type": "code",
   "execution_count": 433,
   "source": [
    "_, ax = plt.subplots()\r\n",
    "ax.set_title(r\"Mass continuous random variable fit\")\r\n",
    "ax.hist(fit_sample, density=True, histtype='stepfilled', alpha=0.2, label='fit random sample density')\r\n",
    "ax.hist(sample, density=True, histtype='stepfilled', alpha=0.2, label='random sample density')\r\n",
    "ax.plot(x, y_pdf, '-', label='fit probability density function')\r\n",
    "ax.set_xlabel('mass in M☉')\r\n",
    "ax.set_ylabel('Density')\r\n",
    "ax.legend()\r\n",
    "plt.show()"
   ],
   "outputs": [
    {
     "output_type": "display_data",
     "data": {
      "text/plain": [
       "<Figure size 432x288 with 1 Axes>"
      ],
      "image/png": "[encoded data removed]"
     },
     "metadata": {
      "needs_background": "light"
     }
    }
   ],
   "metadata": {}
  },
  {
   "cell_type": "markdown",
   "source": [
    "*All generated values in sample must be in interval [.1, 2.0]*"
   ],
   "metadata": {}
  },
  {
   "cell_type": "code",
   "execution_count": 434,
   "source": [
    "all(v >= .1 and v <= 2 for v in fit_sample)"
   ],
   "outputs": [
    {
     "output_type": "execute_result",
     "data": {
      "text/plain": [
       "True"
      ]
     },
     "metadata": {},
     "execution_count": 434
    }
   ],
   "metadata": {}
  },
  {
   "cell_type": "code",
   "execution_count": null,
   "source": [],
   "outputs": [],
   "metadata": {}
  }
 ],
 "metadata": {
  "interpreter": {
   "hash": "5cf38518820c2b8a9a448517a53e2c53d5f90b49f13a92d6618c75b5696ed76a"
  },
  "kernelspec": {
   "name": "python3",
   "display_name": "Python 3.9.0 64-bit"
  },
  "language_info": {
   "codemirror_mode": {
    "name": "ipython",
    "version": 3
   },
   "file_extension": ".py",
   "mimetype": "text/x-python",
   "name": "python",
   "nbconvert_exporter": "python",
   "pygments_lexer": "ipython3",
   "version": "3.9.0"
  }
 },
 "nbformat": 4,
 "nbformat_minor": 4
}