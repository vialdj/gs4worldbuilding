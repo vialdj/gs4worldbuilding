{
 "cells": [
  {
   "cell_type": "markdown",
   "source": [
    "# Stellar Mass Table distribution fit\r\n",
    "*Parse table from csv file*"
   ],
   "metadata": {}
  },
  {
   "cell_type": "code",
   "execution_count": 19,
   "source": [
    "from pandas import read_csv\r\n",
    "\r\n",
    "\r\n",
    "df = read_csv('stellar_orbital_eccentricity.csv')\r\n",
    "df.head()"
   ],
   "outputs": [
    {
     "output_type": "execute_result",
     "data": {
      "text/plain": [
       "    eccentricity        p  p_moderate   p_close  p_very_close\n",
       "0           0.95  0.00463    0.000000  0.000000      0.000000\n",
       "1           0.90  0.01389    0.000000  0.000000      0.000000\n",
       "2           0.80  0.02778    0.004630  0.000000      0.000000\n",
       "3           0.70  0.11574    0.041667  0.004630      0.000000\n",
       "4           0.60  0.21296    0.115741  0.041667      0.004630\n",
       "5           0.50  0.36574    0.337963  0.212963      0.087963\n",
       "6           0.40  0.16666    0.240741  0.240741      0.166667\n",
       "7           0.30  0.04630    0.097222  0.125000      0.115741\n",
       "8           0.20  0.02778    0.069444  0.115741      0.125000\n",
       "9           0.10  0.01389    0.046296  0.097222      0.125000\n",
       "10          0.00  0.00463    0.046296  0.162037      0.375000"
      ],
      "text/html": [
       "<div>\n",
       "<style scoped>\n",
       "    .dataframe tbody tr th:only-of-type {\n",
       "        vertical-align: middle;\n",
       "    }\n",
       "\n",
       "    .dataframe tbody tr th {\n",
       "        vertical-align: top;\n",
       "    }\n",
       "\n",
       "    .dataframe thead th {\n",
       "        text-align: right;\n",
       "    }\n",
       "</style>\n",
       "<table border=\"1\" class=\"dataframe\">\n",
       "  <thead>\n",
       "    <tr style=\"text-align: right;\">\n",
       "      <th></th>\n",
       "      <th>eccentricity</th>\n",
       "      <th>p</th>\n",
       "      <th>p_moderate</th>\n",
       "      <th>p_close</th>\n",
       "      <th>p_very_close</th>\n",
       "    </tr>\n",
       "  </thead>\n",
       "  <tbody>\n",
       "    <tr>\n",
       "      <th>0</th>\n",
       "      <td>0.95</td>\n",
       "      <td>0.00463</td>\n",
       "      <td>0.000000</td>\n",
       "      <td>0.000000</td>\n",
       "      <td>0.000000</td>\n",
       "    </tr>\n",
       "    <tr>\n",
       "      <th>1</th>\n",
       "      <td>0.90</td>\n",
       "      <td>0.01389</td>\n",
       "      <td>0.000000</td>\n",
       "      <td>0.000000</td>\n",
       "      <td>0.000000</td>\n",
       "    </tr>\n",
       "    <tr>\n",
       "      <th>2</th>\n",
       "      <td>0.80</td>\n",
       "      <td>0.02778</td>\n",
       "      <td>0.004630</td>\n",
       "      <td>0.000000</td>\n",
       "      <td>0.000000</td>\n",
       "    </tr>\n",
       "    <tr>\n",
       "      <th>3</th>\n",
       "      <td>0.70</td>\n",
       "      <td>0.11574</td>\n",
       "      <td>0.041667</td>\n",
       "      <td>0.004630</td>\n",
       "      <td>0.000000</td>\n",
       "    </tr>\n",
       "    <tr>\n",
       "      <th>4</th>\n",
       "      <td>0.60</td>\n",
       "      <td>0.21296</td>\n",
       "      <td>0.115741</td>\n",
       "      <td>0.041667</td>\n",
       "      <td>0.004630</td>\n",
       "    </tr>\n",
       "    <tr>\n",
       "      <th>5</th>\n",
       "      <td>0.50</td>\n",
       "      <td>0.36574</td>\n",
       "      <td>0.337963</td>\n",
       "      <td>0.212963</td>\n",
       "      <td>0.087963</td>\n",
       "    </tr>\n",
       "    <tr>\n",
       "      <th>6</th>\n",
       "      <td>0.40</td>\n",
       "      <td>0.16666</td>\n",
       "      <td>0.240741</td>\n",
       "      <td>0.240741</td>\n",
       "      <td>0.166667</td>\n",
       "    </tr>\n",
       "    <tr>\n",
       "      <th>7</th>\n",
       "      <td>0.30</td>\n",
       "      <td>0.04630</td>\n",
       "      <td>0.097222</td>\n",
       "      <td>0.125000</td>\n",
       "      <td>0.115741</td>\n",
       "    </tr>\n",
       "    <tr>\n",
       "      <th>8</th>\n",
       "      <td>0.20</td>\n",
       "      <td>0.02778</td>\n",
       "      <td>0.069444</td>\n",
       "      <td>0.115741</td>\n",
       "      <td>0.125000</td>\n",
       "    </tr>\n",
       "    <tr>\n",
       "      <th>9</th>\n",
       "      <td>0.10</td>\n",
       "      <td>0.01389</td>\n",
       "      <td>0.046296</td>\n",
       "      <td>0.097222</td>\n",
       "      <td>0.125000</td>\n",
       "    </tr>\n",
       "    <tr>\n",
       "      <th>10</th>\n",
       "      <td>0.00</td>\n",
       "      <td>0.00463</td>\n",
       "      <td>0.046296</td>\n",
       "      <td>0.162037</td>\n",
       "      <td>0.375000</td>\n",
       "    </tr>\n",
       "  </tbody>\n",
       "</table>\n",
       "</div>"
      ]
     },
     "metadata": {},
     "execution_count": 19
    }
   ],
   "metadata": {}
  },
  {
   "cell_type": "markdown",
   "source": [
    "## Discrete probabilities\n",
    "*the p column contains probability of the dice rolls corresponding to the eccentricities*"
   ],
   "metadata": {}
  },
  {
   "cell_type": "code",
   "execution_count": 2,
   "source": [
    "x = df.eccentricity\r\n",
    "y = df.p\r\n",
    "x.sum()"
   ],
   "outputs": [
    {
     "output_type": "execute_result",
     "data": {
      "text/plain": [
       "5.45"
      ]
     },
     "metadata": {},
     "execution_count": 2
    }
   ],
   "metadata": {}
  },
  {
   "cell_type": "markdown",
   "source": [
    "*creating random sample of 1000 elements from given probabilities*"
   ],
   "metadata": {}
  },
  {
   "cell_type": "code",
   "execution_count": 3,
   "source": [
    "from random import choices\r\n",
    "\r\n",
    "sample = choices(list(x), weights=list(y), k=1000)"
   ],
   "outputs": [],
   "metadata": {}
  },
  {
   "cell_type": "code",
   "execution_count": 21,
   "source": [
    "import matplotlib.pyplot as plt\r\n",
    "\r\n",
    "\r\n",
    "_, axs = plt.subplots(1, 2)\r\n",
    "axs[0].set_title(r\"P(eccentricity)\")\r\n",
    "axs[0].plot(x, y, 'o', label='P(eccentricity)')\r\n",
    "axs[0].set_xlabel('eccentricity')\r\n",
    "axs[0].set_ylabel('P')\r\n",
    "axs[0].legend()\r\n",
    "axs[1].set_title(r\"Density(eccentricity)\")\r\n",
    "axs[1].hist(sample, density=True, histtype='bar', align='mid', bins=len(x), alpha=0.2, label='random sample density')\r\n",
    "axs[1].set_xlabel('eccentricity')\r\n",
    "axs[1].set_ylabel('Density')\r\n",
    "axs[1].legend()\r\n",
    "plt.show()"
   ],
   "outputs": [
    {
     "output_type": "display_data",
     "data": {
      "text/plain": [
       "<Figure size 432x288 with 2 Axes>"
      ],
      "image/png": "[encoded data removed]"
     },
     "metadata": {
      "needs_background": "light"
     }
    }
   ],
   "metadata": {}
  },
  {
   "cell_type": "markdown",
   "source": [
    "## Continuous random variable fit\r\n",
    "*Fitting a truncated normal distribution to the random sample*"
   ],
   "metadata": {}
  },
  {
   "cell_type": "code",
   "execution_count": 7,
   "source": [
    "\r\n",
    "import numpy as np\r\n",
    "\r\n",
    "xa, xb = x.min(), x.max()\r\n",
    "mu = x.mean()\r\n",
    "sigma = x.std() ** 2\r\n",
    "a, b = (xa - mu) / sigma, (xb - mu) / sigma\r\n",
    "\r\n",
    "a, b, mu, sigma "
   ],
   "outputs": [
    {
     "output_type": "execute_result",
     "data": {
      "text/plain": [
       "(-4.70842332613391, 4.319654427645788, 0.4954545454545455, 0.10522727272727272)"
      ]
     },
     "metadata": {},
     "execution_count": 7
    }
   ],
   "metadata": {}
  },
  {
   "cell_type": "code",
   "execution_count": 8,
   "source": [
    "from scipy.stats import truncnorm\r\n",
    "from scipy.stats import kstest\r\n",
    "\r\n",
    "dist = truncnorm(a, b, mu, sigma)\r\n",
    "r = kstest(sample, [a, b, mu, sigma], 'truncnorm')\r\n",
    "r"
   ],
   "outputs": [
    {
     "output_type": "execute_result",
     "data": {
      "text/plain": [
       "KstestResult(statistic=0.485, pvalue=0.21667552332446272)"
      ]
     },
     "metadata": {},
     "execution_count": 8
    }
   ],
   "metadata": {}
  },
  {
   "cell_type": "markdown",
   "source": [
    "*Density function from the fitted continuous random variable*"
   ],
   "metadata": {}
  },
  {
   "cell_type": "code",
   "execution_count": 9,
   "source": [
    "y_pdf =  [dist.pdf(xi) for xi in x]"
   ],
   "outputs": [],
   "metadata": {}
  },
  {
   "cell_type": "markdown",
   "source": [
    "*Creating random sample of 1000 elements from the fitted continuous random variable*"
   ],
   "metadata": {}
  },
  {
   "cell_type": "code",
   "execution_count": 10,
   "source": [
    "fit_sample = dist.rvs(size=10000)"
   ],
   "outputs": [],
   "metadata": {}
  },
  {
   "cell_type": "code",
   "execution_count": 23,
   "source": [
    "_, ax = plt.subplots()\r\n",
    "ax.set_title(r\"Eccentricity continuous random variable fit\")\r\n",
    "ax.hist(fit_sample, density=True, histtype='step', bins=len(x), label='fit random sample density')\r\n",
    "ax.hist(sample, density=True, histtype='step', bins=len(x), label='random sample density')\r\n",
    "ax.plot(x, y_pdf, '-', label='fit probability density function')\r\n",
    "ax.set_xlabel('eccentricity')\r\n",
    "ax.set_ylabel('Density')\r\n",
    "ax.legend()\r\n",
    "plt.show()"
   ],
   "outputs": [
    {
     "output_type": "display_data",
     "data": {
      "text/plain": [
       "<Figure size 432x288 with 1 Axes>"
      ],
      "image/png": "[encoded data removed]"
     },
     "metadata": {
      "needs_background": "light"
     }
    }
   ],
   "metadata": {}
  },
  {
   "cell_type": "markdown",
   "source": [
    "*All generated values in sample must be in interval [0, .95]*"
   ],
   "metadata": {}
  },
  {
   "cell_type": "code",
   "execution_count": 108,
   "source": [
    "all(v >= 0 and v <= .9 for v in fit_sample)"
   ],
   "outputs": [
    {
     "output_type": "execute_result",
     "data": {
      "text/plain": [
       "False"
      ]
     },
     "metadata": {},
     "execution_count": 108
    }
   ],
   "metadata": {}
  }
 ],
 "metadata": {
  "kernelspec": {
   "name": "python3",
   "display_name": "Python 3.9.0 64-bit"
  },
  "language_info": {
   "codemirror_mode": {
    "name": "ipython",
    "version": 3
   },
   "file_extension": ".py",
   "mimetype": "text/x-python",
   "name": "python",
   "nbconvert_exporter": "python",
   "pygments_lexer": "ipython3",
   "version": "3.9.0"
  },
  "interpreter": {
   "hash": "5cf38518820c2b8a9a448517a53e2c53d5f90b49f13a92d6618c75b5696ed76a"
  }
 },
 "nbformat": 4,
 "nbformat_minor": 4
}