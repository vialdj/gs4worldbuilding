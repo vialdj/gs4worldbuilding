{
 "cells": [
  {
   "cell_type": "markdown",
   "source": [
    "# Stellar Mass Table distribution fit\r\n",
    "*Parse table from csv file*"
   ],
   "metadata": {}
  },
  {
   "cell_type": "code",
   "execution_count": 164,
   "source": [
    "from pandas import read_csv\r\n",
    "\r\n",
    "\r\n",
    "df = read_csv('stellar_orbital_eccentricity.csv')\r\n",
    "df.head()"
   ],
   "outputs": [
    {
     "output_type": "execute_result",
     "data": {
      "text/plain": [
       "   eccentricity        p  p_moderate   p_close  p_very_close\n",
       "0          0.95  0.00463    0.000000  0.000000       0.00000\n",
       "1          0.90  0.01389    0.000000  0.000000       0.00000\n",
       "2          0.80  0.02778    0.004630  0.000000       0.00000\n",
       "3          0.70  0.11574    0.041667  0.004630       0.00000\n",
       "4          0.60  0.21296    0.115741  0.041667       0.00463"
      ],
      "text/html": [
       "<div>\n",
       "<style scoped>\n",
       "    .dataframe tbody tr th:only-of-type {\n",
       "        vertical-align: middle;\n",
       "    }\n",
       "\n",
       "    .dataframe tbody tr th {\n",
       "        vertical-align: top;\n",
       "    }\n",
       "\n",
       "    .dataframe thead th {\n",
       "        text-align: right;\n",
       "    }\n",
       "</style>\n",
       "<table border=\"1\" class=\"dataframe\">\n",
       "  <thead>\n",
       "    <tr style=\"text-align: right;\">\n",
       "      <th></th>\n",
       "      <th>eccentricity</th>\n",
       "      <th>p</th>\n",
       "      <th>p_moderate</th>\n",
       "      <th>p_close</th>\n",
       "      <th>p_very_close</th>\n",
       "    </tr>\n",
       "  </thead>\n",
       "  <tbody>\n",
       "    <tr>\n",
       "      <th>0</th>\n",
       "      <td>0.95</td>\n",
       "      <td>0.00463</td>\n",
       "      <td>0.000000</td>\n",
       "      <td>0.000000</td>\n",
       "      <td>0.00000</td>\n",
       "    </tr>\n",
       "    <tr>\n",
       "      <th>1</th>\n",
       "      <td>0.90</td>\n",
       "      <td>0.01389</td>\n",
       "      <td>0.000000</td>\n",
       "      <td>0.000000</td>\n",
       "      <td>0.00000</td>\n",
       "    </tr>\n",
       "    <tr>\n",
       "      <th>2</th>\n",
       "      <td>0.80</td>\n",
       "      <td>0.02778</td>\n",
       "      <td>0.004630</td>\n",
       "      <td>0.000000</td>\n",
       "      <td>0.00000</td>\n",
       "    </tr>\n",
       "    <tr>\n",
       "      <th>3</th>\n",
       "      <td>0.70</td>\n",
       "      <td>0.11574</td>\n",
       "      <td>0.041667</td>\n",
       "      <td>0.004630</td>\n",
       "      <td>0.00000</td>\n",
       "    </tr>\n",
       "    <tr>\n",
       "      <th>4</th>\n",
       "      <td>0.60</td>\n",
       "      <td>0.21296</td>\n",
       "      <td>0.115741</td>\n",
       "      <td>0.041667</td>\n",
       "      <td>0.00463</td>\n",
       "    </tr>\n",
       "  </tbody>\n",
       "</table>\n",
       "</div>"
      ]
     },
     "metadata": {},
     "execution_count": 164
    }
   ],
   "metadata": {}
  },
  {
   "cell_type": "markdown",
   "source": [
    "## Discrete probabilities\r\n",
    "*the p column contains probability of the dice rolls corresponding to the eccentricities*"
   ],
   "metadata": {}
  },
  {
   "cell_type": "code",
   "execution_count": 165,
   "source": [
    "x = df.eccentricity\r\n",
    "y = df.p\r\n",
    "\r\n",
    "y.sum()"
   ],
   "outputs": [
    {
     "output_type": "execute_result",
     "data": {
      "text/plain": [
       "1.0"
      ]
     },
     "metadata": {},
     "execution_count": 165
    }
   ],
   "metadata": {}
  },
  {
   "cell_type": "markdown",
   "source": [
    "*creating random sample of 1000 elements from given probabilities*"
   ],
   "metadata": {}
  },
  {
   "cell_type": "code",
   "execution_count": 166,
   "source": [
    "from random import choices\r\n",
    "\r\n",
    "sample = choices(list(x), weights=list(y), k=1000)\r\n"
   ],
   "outputs": [],
   "metadata": {}
  },
  {
   "cell_type": "code",
   "execution_count": 167,
   "source": [
    "import matplotlib.pyplot as plt\r\n",
    "\r\n",
    "\r\n",
    "_, axs = plt.subplots(1, 2)\r\n",
    "axs[0].set_title(r\"P(eccentricity)\")\r\n",
    "axs[0].plot(x, y, 'o', label='P(eccentricity)')\r\n",
    "axs[0].set_xlabel('eccentricity')\r\n",
    "axs[0].set_ylabel('P')\r\n",
    "axs[0].legend()\r\n",
    "axs[1].set_title(r\"Density(eccentricity)\")\r\n",
    "axs[1].hist(sample, density=True, bins=len(x), label='random sample density')\r\n",
    "axs[1].set_xlabel('eccentricity')\r\n",
    "axs[1].set_ylabel('Density')\r\n",
    "axs[1].legend()\r\n",
    "\r\n",
    "plt.show()"
   ],
   "outputs": [
    {
     "output_type": "display_data",
     "data": {
      "text/plain": [
       "<Figure size 432x288 with 2 Axes>"
      ],
      "image/png": "[encoded data removed]"
     },
     "metadata": {
      "needs_background": "light"
     }
    }
   ],
   "metadata": {}
  },
  {
   "cell_type": "markdown",
   "source": [
    "## Continuous random variable fit\r\n",
    "*Fitting a truncated normal distribution to the random sample*"
   ],
   "metadata": {}
  },
  {
   "cell_type": "code",
   "execution_count": 168,
   "source": [
    "\r\n",
    "import numpy as np\r\n",
    "\r\n",
    "xa, xb = x.min(), x.max()\r\n",
    "mu = np.mean(sample)\r\n",
    "sigma = np.std(sample)\r\n",
    "a, b = (xa - mu) / sigma, (xb - mu) / sigma\r\n",
    "\r\n",
    "a, b, mu, sigma "
   ],
   "outputs": [
    {
     "output_type": "execute_result",
     "data": {
      "text/plain": [
       "(-3.639448553919652, 3.0057102510460783, 0.5203, 0.14296121851747065)"
      ]
     },
     "metadata": {},
     "execution_count": 168
    }
   ],
   "metadata": {}
  },
  {
   "cell_type": "code",
   "execution_count": 169,
   "source": [
    "from scipy.stats import truncnorm\r\n",
    "from scipy.stats import kstest\r\n",
    "\r\n",
    "dist = truncnorm(a, b, mu, sigma)\r\n",
    "r = kstest(sample, [a, b, mu, sigma], 'truncnorm')\r\n",
    "r"
   ],
   "outputs": [
    {
     "output_type": "execute_result",
     "data": {
      "text/plain": [
       "KstestResult(statistic=0.482, pvalue=0.22261436530807233)"
      ]
     },
     "metadata": {},
     "execution_count": 169
    }
   ],
   "metadata": {}
  },
  {
   "cell_type": "markdown",
   "source": [
    "*Density function from the fitted continuous random variable*"
   ],
   "metadata": {}
  },
  {
   "cell_type": "code",
   "execution_count": 170,
   "source": [
    "y_pdf =  [dist.pdf(xi) for xi in x]"
   ],
   "outputs": [],
   "metadata": {}
  },
  {
   "cell_type": "markdown",
   "source": [
    "*Creating random sample of 1000 elements from the fitted continuous random variable*"
   ],
   "metadata": {}
  },
  {
   "cell_type": "code",
   "execution_count": 171,
   "source": [
    "fit_sample = dist.rvs(size=1000)"
   ],
   "outputs": [],
   "metadata": {}
  },
  {
   "cell_type": "code",
   "execution_count": 172,
   "source": [
    "_, ax = plt.subplots()\r\n",
    "ax.set_title(r\"Eccentricity continuous random variable fit\")\r\n",
    "ax.hist(fit_sample, density=True, histtype='step', bins=len(x), label='fit random sample density')\r\n",
    "ax.hist(sample, density=True, histtype='step', bins=len(x), label='random sample density')\r\n",
    "ax.plot(x, y_pdf, '-', label='fit probability density function')\r\n",
    "ax.set_xlabel('eccentricity')\r\n",
    "ax.set_ylabel('Density')\r\n",
    "ax.legend()\r\n",
    "plt.show()"
   ],
   "outputs": [
    {
     "output_type": "display_data",
     "data": {
      "text/plain": [
       "<Figure size 432x288 with 1 Axes>"
      ],
      "image/png": "[encoded data removed]"
     },
     "metadata": {
      "needs_background": "light"
     }
    }
   ],
   "metadata": {}
  },
  {
   "cell_type": "markdown",
   "source": [
    "*All generated values in sample must be in interval [0, .95]*"
   ],
   "metadata": {}
  },
  {
   "cell_type": "code",
   "execution_count": 173,
   "source": [
    "all(v >= x.min() and v <= x.max() for v in fit_sample)"
   ],
   "outputs": [
    {
     "output_type": "execute_result",
     "data": {
      "text/plain": [
       "True"
      ]
     },
     "metadata": {},
     "execution_count": 173
    }
   ],
   "metadata": {}
  },
  {
   "cell_type": "markdown",
   "source": [
    "## Discrete probabilities with modifiers\r\n",
    "*the p_moderate, p_close and p_very_close columns contains modified probability of the dice rolls corresponding to the eccentricities given a separation category*"
   ],
   "metadata": {}
  },
  {
   "cell_type": "markdown",
   "source": [
    "### Moderate separation modifier"
   ],
   "metadata": {}
  },
  {
   "cell_type": "code",
   "execution_count": 174,
   "source": [
    "x_moderate = df.eccentricity[df.p_moderate > 0]\r\n",
    "y_moderate = df.p_moderate[df.p_moderate > 0]\r\n",
    "\r\n",
    "y_moderate.sum()"
   ],
   "outputs": [
    {
     "output_type": "execute_result",
     "data": {
      "text/plain": [
       "1.0"
      ]
     },
     "metadata": {},
     "execution_count": 174
    }
   ],
   "metadata": {}
  },
  {
   "cell_type": "markdown",
   "source": [
    "*creating random sample of 1000 elements from given probabilities*"
   ],
   "metadata": {}
  },
  {
   "cell_type": "code",
   "execution_count": 175,
   "source": [
    "sample_moderate = choices(list(x_moderate), weights=list(y_moderate), k=1000)"
   ],
   "outputs": [],
   "metadata": {}
  },
  {
   "cell_type": "code",
   "execution_count": 176,
   "source": [
    "_, axs = plt.subplots(1, 2)\r\n",
    "axs[0].set_title(r\"P(eccentricity)\")\r\n",
    "axs[0].plot(x_moderate, y_moderate, 'o', label='P(eccentricity)')\r\n",
    "axs[0].set_xlabel('eccentricity')\r\n",
    "axs[0].set_ylabel('P')\r\n",
    "axs[0].legend()\r\n",
    "axs[1].set_title(r\"Density(eccentricity)\")\r\n",
    "axs[1].hist(sample_moderate, density=True, bins=len(x_moderate), label='random sample density')\r\n",
    "axs[1].set_xlabel('eccentricity')\r\n",
    "axs[1].set_ylabel('Density')\r\n",
    "axs[1].legend()"
   ],
   "outputs": [
    {
     "output_type": "execute_result",
     "data": {
      "text/plain": [
       "<matplotlib.legend.Legend at 0x25c6174de50>"
      ]
     },
     "metadata": {},
     "execution_count": 176
    },
    {
     "output_type": "display_data",
     "data": {
      "text/plain": [
       "<Figure size 432x288 with 2 Axes>"
      ],
      "image/png": "[encoded data removed]"
     },
     "metadata": {
      "needs_background": "light"
     }
    }
   ],
   "metadata": {}
  },
  {
   "cell_type": "markdown",
   "source": [
    "### Close separation modifier"
   ],
   "metadata": {}
  },
  {
   "cell_type": "code",
   "execution_count": 177,
   "source": [
    "x_close = df.eccentricity[df.p_close > 0]\r\n",
    "y_close = df.p_close[df.p_close > 0]\r\n",
    "\r\n",
    "y_close.sum()"
   ],
   "outputs": [
    {
     "output_type": "execute_result",
     "data": {
      "text/plain": [
       "1.0"
      ]
     },
     "metadata": {},
     "execution_count": 177
    }
   ],
   "metadata": {}
  },
  {
   "cell_type": "markdown",
   "source": [
    "*creating random sample of 1000 elements from given probabilities*"
   ],
   "metadata": {}
  },
  {
   "cell_type": "code",
   "execution_count": 178,
   "source": [
    "sample_close = choices(list(x_close), weights=list(y_close), k=1000)"
   ],
   "outputs": [],
   "metadata": {}
  },
  {
   "cell_type": "code",
   "execution_count": 179,
   "source": [
    "_, axs = plt.subplots(1, 2)\r\n",
    "axs[0].set_title(r\"P(eccentricity)\")\r\n",
    "axs[0].plot(x_close, y_close, 'o', label='P(eccentricity)')\r\n",
    "axs[0].set_xlabel('eccentricity')\r\n",
    "axs[0].set_ylabel('P')\r\n",
    "axs[0].legend()\r\n",
    "axs[1].set_title(r\"Density(eccentricity)\")\r\n",
    "axs[1].hist(sample_close, density=True, bins=len(x_close), label='random sample density')\r\n",
    "axs[1].set_xlabel('eccentricity')\r\n",
    "axs[1].set_ylabel('Density')\r\n",
    "axs[1].legend()"
   ],
   "outputs": [
    {
     "output_type": "execute_result",
     "data": {
      "text/plain": [
       "<matplotlib.legend.Legend at 0x25c610d4a30>"
      ]
     },
     "metadata": {},
     "execution_count": 179
    },
    {
     "output_type": "display_data",
     "data": {
      "text/plain": [
       "<Figure size 432x288 with 2 Axes>"
      ],
      "image/png": "[encoded data removed]"
     },
     "metadata": {
      "needs_background": "light"
     }
    }
   ],
   "metadata": {}
  },
  {
   "cell_type": "markdown",
   "source": [
    "### Very close separation modifier"
   ],
   "metadata": {}
  },
  {
   "cell_type": "code",
   "execution_count": 180,
   "source": [
    "x_very_close = df.eccentricity[df.p_very_close > 0]\r\n",
    "y_very_close = df.p_very_close[df.p_very_close > 0]\r\n",
    "\r\n",
    "y_very_close.sum()"
   ],
   "outputs": [
    {
     "output_type": "execute_result",
     "data": {
      "text/plain": [
       "1.00000000029646"
      ]
     },
     "metadata": {},
     "execution_count": 180
    }
   ],
   "metadata": {}
  },
  {
   "cell_type": "markdown",
   "source": [
    "*creating random sample of 1000 elements from given probabilities*"
   ],
   "metadata": {}
  },
  {
   "cell_type": "code",
   "execution_count": 181,
   "source": [
    "sample_very_close = choices(list(x_very_close), weights=list(y_very_close), k=1000)"
   ],
   "outputs": [],
   "metadata": {}
  },
  {
   "cell_type": "code",
   "execution_count": 182,
   "source": [
    "_, axs = plt.subplots(1, 2)\r\n",
    "axs[0].set_title(r\"P(eccentricity)\")\r\n",
    "axs[0].plot(x_very_close, y_very_close, 'o', label='P(eccentricity)')\r\n",
    "axs[0].set_xlabel('eccentricity')\r\n",
    "axs[0].set_ylabel('P')\r\n",
    "axs[0].legend()\r\n",
    "axs[1].set_title(r\"Density(eccentricity)\")\r\n",
    "axs[1].hist(sample_very_close, density=True, bins=len(x_very_close), label='random sample density')\r\n",
    "axs[1].set_xlabel('eccentricity')\r\n",
    "axs[1].set_ylabel('Density')\r\n",
    "axs[1].legend()"
   ],
   "outputs": [
    {
     "output_type": "execute_result",
     "data": {
      "text/plain": [
       "<matplotlib.legend.Legend at 0x25c60a65e80>"
      ]
     },
     "metadata": {},
     "execution_count": 182
    },
    {
     "output_type": "display_data",
     "data": {
      "text/plain": [
       "<Figure size 432x288 with 2 Axes>"
      ],
      "image/png": "[encoded data removed]"
     },
     "metadata": {
      "needs_background": "light"
     }
    }
   ],
   "metadata": {}
  },
  {
   "cell_type": "markdown",
   "source": [
    "## Continuous random variable fit on modified probabilities\r\n",
    "*Fitting distributions to the random samples*"
   ],
   "metadata": {}
  },
  {
   "cell_type": "markdown",
   "source": [
    "### Moderate separation modifier\r\n",
    "*Fitting a truncated normal distribution*"
   ],
   "metadata": {}
  },
  {
   "cell_type": "code",
   "execution_count": 183,
   "source": [
    "xa, xb = x_moderate.min(), x_moderate.max()\r\n",
    "mu = np.mean(sample_moderate)\r\n",
    "sigma = np.std(sample_moderate)\r\n",
    "a, b = (xa - mu) / sigma, (xb - mu) / sigma\r\n",
    "\r\n",
    "a, b, mu, sigma "
   ],
   "outputs": [
    {
     "output_type": "execute_result",
     "data": {
      "text/plain": [
       "(-2.438245840186476, 2.2676568670491837, 0.4145, 0.16999926470429216)"
      ]
     },
     "metadata": {},
     "execution_count": 183
    }
   ],
   "metadata": {}
  },
  {
   "cell_type": "code",
   "execution_count": 184,
   "source": [
    "dist_moderate = truncnorm(a, b, mu, sigma)\r\n",
    "r = kstest(sample_moderate, [a, b, mu, sigma], 'truncnorm')\r\n",
    "r"
   ],
   "outputs": [
    {
     "output_type": "execute_result",
     "data": {
      "text/plain": [
       "KstestResult(statistic=0.4, pvalue=0.44092082902411933)"
      ]
     },
     "metadata": {},
     "execution_count": 184
    }
   ],
   "metadata": {}
  },
  {
   "cell_type": "markdown",
   "source": [
    "*Density function from the fitted continuous random variable*"
   ],
   "metadata": {}
  },
  {
   "cell_type": "code",
   "execution_count": 185,
   "source": [
    "y_moderate_pdf =  [dist_moderate.pdf(xi) for xi in x_moderate]"
   ],
   "outputs": [],
   "metadata": {}
  },
  {
   "cell_type": "markdown",
   "source": [
    "*Creating random sample of 1000 elements from the fitted continuous random variable*"
   ],
   "metadata": {}
  },
  {
   "cell_type": "code",
   "execution_count": 186,
   "source": [
    "fit_sample_moderate = dist_moderate.rvs(size=1000)"
   ],
   "outputs": [],
   "metadata": {}
  },
  {
   "cell_type": "code",
   "execution_count": 187,
   "source": [
    "_, ax = plt.subplots()\r\n",
    "ax.set_title(r\"\"\"Eccentricity continuous random variable fit\r\n",
    "with moderate separation\"\"\")\r\n",
    "ax.hist(fit_sample_moderate, density=True, histtype='step', bins=len(x_moderate), label='fit random sample density')\r\n",
    "ax.hist(sample_moderate, density=True, histtype='step', bins=len(x_moderate), label='random sample density')\r\n",
    "ax.plot(x_moderate, y_moderate_pdf, '-', label='fit probability density function')\r\n",
    "ax.set_xlabel('eccentricity')\r\n",
    "ax.set_ylabel('Density')\r\n",
    "ax.legend()\r\n",
    "plt.show()"
   ],
   "outputs": [
    {
     "output_type": "display_data",
     "data": {
      "text/plain": [
       "<Figure size 432x288 with 1 Axes>"
      ],
      "image/png": "[encoded data removed]"
     },
     "metadata": {
      "needs_background": "light"
     }
    }
   ],
   "metadata": {}
  },
  {
   "cell_type": "markdown",
   "source": [
    "*All generated values in sample must be in interval [0, .8]*"
   ],
   "metadata": {}
  },
  {
   "cell_type": "code",
   "execution_count": 188,
   "source": [
    "all(v >= x_moderate.min() and v <= x_moderate.max() for v in fit_sample_moderate)"
   ],
   "outputs": [
    {
     "output_type": "execute_result",
     "data": {
      "text/plain": [
       "True"
      ]
     },
     "metadata": {},
     "execution_count": 188
    }
   ],
   "metadata": {}
  },
  {
   "cell_type": "markdown",
   "source": [
    "### Close separation modifier\r\n",
    "*Fitting a truncated normal distribution*"
   ],
   "metadata": {}
  },
  {
   "cell_type": "code",
   "execution_count": 189,
   "source": [
    "xa, xb = x_close.min(), x_close.max()\r\n",
    "mu = np.mean(sample_close)\r\n",
    "sigma = np.std(sample_close)\r\n",
    "a, b = (xa - mu) / sigma, (xb - mu) / sigma\r\n",
    "\r\n",
    "a, b, mu, sigma"
   ],
   "outputs": [
    {
     "output_type": "execute_result",
     "data": {
      "text/plain": [
       "(-1.5957361671166594, 2.1189805504811505, 0.3007, 0.1884396720438666)"
      ]
     },
     "metadata": {},
     "execution_count": 189
    }
   ],
   "metadata": {}
  },
  {
   "cell_type": "code",
   "execution_count": 190,
   "source": [
    "dist_close = truncnorm(a, b, mu, sigma)\r\n",
    "r = kstest(sample_close, [a, b, mu, sigma], 'truncnorm')\r\n",
    "r"
   ],
   "outputs": [
    {
     "output_type": "execute_result",
     "data": {
      "text/plain": [
       "KstestResult(statistic=0.255, pvalue=0.8965220738215802)"
      ]
     },
     "metadata": {},
     "execution_count": 190
    }
   ],
   "metadata": {}
  },
  {
   "cell_type": "markdown",
   "source": [
    "*Density function from the fitted continuous random variable*"
   ],
   "metadata": {}
  },
  {
   "cell_type": "code",
   "execution_count": 191,
   "source": [
    "y_close_pdf =  [dist_close.pdf(xi) for xi in x_close]"
   ],
   "outputs": [],
   "metadata": {}
  },
  {
   "cell_type": "markdown",
   "source": [
    "*Creating random sample of 1000 elements from the fitted continuous random variable*"
   ],
   "metadata": {}
  },
  {
   "cell_type": "code",
   "execution_count": 192,
   "source": [
    "fit_sample_close = dist_close.rvs(size=1000)"
   ],
   "outputs": [],
   "metadata": {}
  },
  {
   "cell_type": "code",
   "execution_count": 193,
   "source": [
    "_, ax = plt.subplots()\r\n",
    "ax.set_title(r\"Eccentricity continuous random variable fit\")\r\n",
    "ax.hist(fit_sample_close, density=True, histtype='step', bins=len(x_close), label='fit random sample density')\r\n",
    "ax.hist(sample_close, density=True, histtype='step', bins=len(x_close), label='random sample density')\r\n",
    "ax.plot(x_close, y_close_pdf, '-', label='fit probability density function')\r\n",
    "ax.set_xlabel('eccentricity')\r\n",
    "ax.set_ylabel('Density')\r\n",
    "ax.legend()\r\n",
    "plt.show()"
   ],
   "outputs": [
    {
     "output_type": "display_data",
     "data": {
      "text/plain": [
       "<Figure size 432x288 with 1 Axes>"
      ],
      "image/png": "[encoded data removed]"
     },
     "metadata": {
      "needs_background": "light"
     }
    }
   ],
   "metadata": {}
  },
  {
   "cell_type": "markdown",
   "source": [
    "*All generated values in sample must be in interval [0, .7]*"
   ],
   "metadata": {}
  },
  {
   "cell_type": "code",
   "execution_count": 194,
   "source": [
    "all(v >= x_close.min() and v <= x_close.max() for v in fit_sample_close)"
   ],
   "outputs": [
    {
     "output_type": "execute_result",
     "data": {
      "text/plain": [
       "True"
      ]
     },
     "metadata": {},
     "execution_count": 194
    }
   ],
   "metadata": {}
  },
  {
   "cell_type": "markdown",
   "source": [
    "### Very close separation modifier\r\n",
    "*Fitting a truncated exponential distribution*"
   ],
   "metadata": {}
  },
  {
   "cell_type": "code",
   "execution_count": 217,
   "source": [
    "upper, lower = x_very_close.max(), x_very_close.min()\r\n",
    "mu = lower\r\n",
    "sigma = np.std(sample_very_close)\r\n",
    "b = (upper - lower) / sigma\r\n",
    "\r\n",
    "b, mu, sigma"
   ],
   "outputs": [
    {
     "output_type": "execute_result",
     "data": {
      "text/plain": [
       "(3.3675484927948784, 0.0, 0.1781711536697229)"
      ]
     },
     "metadata": {},
     "execution_count": 217
    }
   ],
   "metadata": {}
  },
  {
   "cell_type": "code",
   "execution_count": 207,
   "source": [
    "from scipy.stats import truncexpon\r\n",
    "\r\n",
    "dist_very_close = truncexpon(b, mu, sigma)\r\n",
    "r = kstest(sample_very_close, [b, mu, sigma], 'truncexpon')\r\n",
    "r"
   ],
   "outputs": [
    {
     "output_type": "execute_result",
     "data": {
      "text/plain": [
       "KstestResult(statistic=0.3333333333333333, pvalue=0.7797675963000349)"
      ]
     },
     "metadata": {},
     "execution_count": 207
    }
   ],
   "metadata": {}
  },
  {
   "cell_type": "markdown",
   "source": [
    "*Density function from the fitted continuous random variable*"
   ],
   "metadata": {}
  },
  {
   "cell_type": "code",
   "execution_count": 209,
   "source": [
    "y_very_close_pdf =  [dist_very_close.pdf(xi) for xi in x_very_close]"
   ],
   "outputs": [],
   "metadata": {}
  },
  {
   "cell_type": "markdown",
   "source": [
    "*Creating random sample of 1000 elements from the fitted continuous random variable*"
   ],
   "metadata": {}
  },
  {
   "cell_type": "code",
   "execution_count": 210,
   "source": [
    "fit_sample_very_close = dist_very_close.rvs(size=1000)"
   ],
   "outputs": [],
   "metadata": {}
  },
  {
   "cell_type": "code",
   "execution_count": 216,
   "source": [
    "_, ax = plt.subplots()\r\n",
    "ax.set_title(r\"\"\"Eccentricity continuous random variable fit\r\n",
    "with very close separation\"\"\")\r\n",
    "ax.hist(fit_sample_very_close, density=True, histtype='step', bins=len(x_very_close), label='fit random sample density')\r\n",
    "ax.hist(sample_very_close, density=True, histtype='step', bins=len(x_very_close), label='random sample density')\r\n",
    "ax.plot(x_very_close, y_very_close_pdf, '-', label='fit probability density function')\r\n",
    "ax.set_xlabel('eccentricity')\r\n",
    "ax.set_ylabel('Density')\r\n",
    "ax.legend()\r\n",
    "plt.show()"
   ],
   "outputs": [
    {
     "output_type": "display_data",
     "data": {
      "text/plain": [
       "<Figure size 432x288 with 1 Axes>"
      ],
      "image/png": "[encoded data removed]"
     },
     "metadata": {
      "needs_background": "light"
     }
    }
   ],
   "metadata": {}
  }
 ],
 "metadata": {
  "kernelspec": {
   "name": "python3",
   "display_name": "Python 3.9.0 64-bit"
  },
  "language_info": {
   "codemirror_mode": {
    "name": "ipython",
    "version": 3
   },
   "file_extension": ".py",
   "mimetype": "text/x-python",
   "name": "python",
   "nbconvert_exporter": "python",
   "pygments_lexer": "ipython3",
   "version": "3.9.0"
  },
  "interpreter": {
   "hash": "5cf38518820c2b8a9a448517a53e2c53d5f90b49f13a92d6618c75b5696ed76a"
  }
 },
 "nbformat": 4,
 "nbformat_minor": 4
}