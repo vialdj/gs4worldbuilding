{
 "cells": [
  {
   "cell_type": "markdown",
   "source": [
    "# Stellar Mass Table distribution fit\r\n",
    "*Parse table from csv file*"
   ],
   "metadata": {}
  },
  {
   "cell_type": "code",
   "execution_count": 15,
   "source": [
    "from pandas import read_csv\r\n",
    "\r\n",
    "\r\n",
    "df = read_csv('stellar_orbital_eccentricity.csv')\r\n",
    "df.head()"
   ],
   "outputs": [
    {
     "output_type": "execute_result",
     "data": {
      "text/plain": [
       "   eccentricity        p\n",
       "0          0.95  0.00463\n",
       "1          0.90  0.01389\n",
       "2          0.80  0.02778\n",
       "3          0.70  0.11574\n",
       "4          0.60  0.21296"
      ],
      "text/html": [
       "<div>\n",
       "<style scoped>\n",
       "    .dataframe tbody tr th:only-of-type {\n",
       "        vertical-align: middle;\n",
       "    }\n",
       "\n",
       "    .dataframe tbody tr th {\n",
       "        vertical-align: top;\n",
       "    }\n",
       "\n",
       "    .dataframe thead th {\n",
       "        text-align: right;\n",
       "    }\n",
       "</style>\n",
       "<table border=\"1\" class=\"dataframe\">\n",
       "  <thead>\n",
       "    <tr style=\"text-align: right;\">\n",
       "      <th></th>\n",
       "      <th>eccentricity</th>\n",
       "      <th>p</th>\n",
       "    </tr>\n",
       "  </thead>\n",
       "  <tbody>\n",
       "    <tr>\n",
       "      <th>0</th>\n",
       "      <td>0.95</td>\n",
       "      <td>0.00463</td>\n",
       "    </tr>\n",
       "    <tr>\n",
       "      <th>1</th>\n",
       "      <td>0.90</td>\n",
       "      <td>0.01389</td>\n",
       "    </tr>\n",
       "    <tr>\n",
       "      <th>2</th>\n",
       "      <td>0.80</td>\n",
       "      <td>0.02778</td>\n",
       "    </tr>\n",
       "    <tr>\n",
       "      <th>3</th>\n",
       "      <td>0.70</td>\n",
       "      <td>0.11574</td>\n",
       "    </tr>\n",
       "    <tr>\n",
       "      <th>4</th>\n",
       "      <td>0.60</td>\n",
       "      <td>0.21296</td>\n",
       "    </tr>\n",
       "  </tbody>\n",
       "</table>\n",
       "</div>"
      ]
     },
     "metadata": {},
     "execution_count": 15
    }
   ],
   "metadata": {}
  },
  {
   "cell_type": "markdown",
   "source": [
    "## Discrete probabilities\n",
    "*the p column contains probability of the dice rolls corresponding to the eccentricities*"
   ],
   "metadata": {}
  },
  {
   "cell_type": "code",
   "execution_count": 16,
   "source": [
    "x = df.eccentricity\r\n",
    "y = df.p\r\n",
    "df.p.sum()"
   ],
   "outputs": [
    {
     "output_type": "execute_result",
     "data": {
      "text/plain": [
       "1.0"
      ]
     },
     "metadata": {},
     "execution_count": 16
    }
   ],
   "metadata": {}
  },
  {
   "cell_type": "markdown",
   "source": [
    "*creating random sample of 1000 elements from given probabilities*"
   ],
   "metadata": {}
  },
  {
   "cell_type": "code",
   "execution_count": 17,
   "source": [
    "from random import choices\r\n",
    "\r\n",
    "sample = choices(list(x), weights=list(y), k=10000)"
   ],
   "outputs": [],
   "metadata": {}
  },
  {
   "cell_type": "code",
   "execution_count": 18,
   "source": [
    "import matplotlib.pyplot as plt\r\n",
    "\r\n",
    "\r\n",
    "_, axs = plt.subplots(1, 2)\r\n",
    "axs[0].set_title(r\"P(eccentricity)\")\r\n",
    "axs[0].plot(x, y, 'o', label='P(eccentricity)')\r\n",
    "axs[0].set_xlabel('eccentricity')\r\n",
    "axs[0].set_ylabel('P')\r\n",
    "axs[0].legend()\r\n",
    "axs[1].set_title(r\"Density(eccentricity)\")\r\n",
    "axs[1].hist(sample, density=True, histtype='stepfilled', alpha=0.2, label='random sample density')\r\n",
    "axs[1].set_xlabel('eccentricity')\r\n",
    "axs[1].set_ylabel('Density')\r\n",
    "axs[1].legend()\r\n",
    "plt.show()"
   ],
   "outputs": [
    {
     "output_type": "display_data",
     "data": {
      "text/plain": [
       "<Figure size 432x288 with 2 Axes>"
      ],
      "image/png": "[encoded data removed]"
     },
     "metadata": {
      "needs_background": "light"
     }
    }
   ],
   "metadata": {}
  },
  {
   "cell_type": "markdown",
   "source": [
    "## Continuous random variable fit\r\n",
    "*Fitting a truncated normal distribution to the random sample*"
   ],
   "metadata": {}
  },
  {
   "cell_type": "code",
   "execution_count": 32,
   "source": [
    "\r\n",
    "import numpy as np\r\n",
    "\r\n",
    "xa, xb = x.min(), x.max()\r\n",
    "mu = x.mean()\r\n",
    "sigma = x.std() ** 2\r\n",
    "a, b = (xa - mu) / sigma, (xb - mu) / sigma\r\n",
    "\r\n",
    "a, b, mu, sigma "
   ],
   "outputs": [
    {
     "output_type": "execute_result",
     "data": {
      "text/plain": [
       "(-4.70842332613391, 4.319654427645788, 0.4954545454545455, 0.10522727272727272)"
      ]
     },
     "metadata": {},
     "execution_count": 32
    }
   ],
   "metadata": {}
  },
  {
   "cell_type": "code",
   "execution_count": 33,
   "source": [
    "from scipy.stats import truncnorm\r\n",
    "from scipy.stats import kstest\r\n",
    "\r\n",
    "dist = truncnorm(a, b, mu, sigma)\r\n",
    "r = kstest(sample, [a, b, mu, sigma], 'truncnorm')\r\n",
    "r"
   ],
   "outputs": [
    {
     "output_type": "execute_result",
     "data": {
      "text/plain": [
       "KstestResult(statistic=0.4878, pvalue=0.2091006022215266)"
      ]
     },
     "metadata": {},
     "execution_count": 33
    }
   ],
   "metadata": {}
  },
  {
   "cell_type": "markdown",
   "source": [
    "*Density function from the fitted continuous random variable*"
   ],
   "metadata": {}
  },
  {
   "cell_type": "code",
   "execution_count": 34,
   "source": [
    "y_pdf =  [dist.pdf(xi) for xi in x]"
   ],
   "outputs": [],
   "metadata": {}
  },
  {
   "cell_type": "markdown",
   "source": [
    "*Creating random sample of 1000 elements from the fitted continuous random variable*"
   ],
   "metadata": {}
  },
  {
   "cell_type": "code",
   "execution_count": 29,
   "source": [
    "fit_sample = dist.rvs(size=10000)"
   ],
   "outputs": [],
   "metadata": {}
  },
  {
   "cell_type": "code",
   "execution_count": 35,
   "source": [
    "_, ax = plt.subplots()\r\n",
    "ax.set_title(r\"Eccentricity continuous random variable fit\")\r\n",
    "ax.hist(fit_sample, density=True, histtype='stepfilled', alpha=0.2, label='fit random sample density')\r\n",
    "ax.hist(sample, density=True, histtype='stepfilled', alpha=0.2, label='random sample density')\r\n",
    "ax.plot(x, y_pdf, '-', label='fit probability density function')\r\n",
    "ax.set_xlabel('eccentricity')\r\n",
    "ax.set_ylabel('Density')\r\n",
    "ax.legend()\r\n",
    "plt.show()"
   ],
   "outputs": [
    {
     "output_type": "display_data",
     "data": {
      "text/plain": [
       "<Figure size 432x288 with 1 Axes>"
      ],
      "image/png": "[encoded data removed]"
     },
     "metadata": {
      "needs_background": "light"
     }
    }
   ],
   "metadata": {}
  },
  {
   "cell_type": "markdown",
   "source": [
    "*All generated values in sample must be in interval [0, .95]*"
   ],
   "metadata": {}
  },
  {
   "cell_type": "code",
   "execution_count": null,
   "source": [
    "all(v >= 0 and v <= .9 for v in fit_sample)"
   ],
   "outputs": [
    {
     "output_type": "execute_result",
     "data": {
      "text/plain": [
       "False"
      ]
     },
     "metadata": {},
     "execution_count": 10
    }
   ],
   "metadata": {}
  }
 ],
 "metadata": {
  "kernelspec": {
   "name": "python3",
   "display_name": "Python 3.9.0 64-bit"
  },
  "language_info": {
   "codemirror_mode": {
    "name": "ipython",
    "version": 3
   },
   "file_extension": ".py",
   "mimetype": "text/x-python",
   "name": "python",
   "nbconvert_exporter": "python",
   "pygments_lexer": "ipython3",
   "version": "3.9.0"
  },
  "interpreter": {
   "hash": "5cf38518820c2b8a9a448517a53e2c53d5f90b49f13a92d6618c75b5696ed76a"
  }
 },
 "nbformat": 4,
 "nbformat_minor": 4
}