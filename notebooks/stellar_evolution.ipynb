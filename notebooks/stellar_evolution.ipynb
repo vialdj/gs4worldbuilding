{
 "cells": [
  {
   "cell_type": "markdown",
   "metadata": {},
   "source": [
    "# Stellar Evolution Table interpollations\n",
    "*Parse table from csv file*"
   ]
  },
  {
   "cell_type": "code",
   "execution_count": null,
   "metadata": {},
   "outputs": [],
   "source": []
  },
  {
   "cell_type": "code",
   "execution_count": 40,
   "metadata": {},
   "outputs": [
    {
     "data": {
      "text/html": [
       "<div>\n",
       "<style scoped>\n",
       "    .dataframe tbody tr th:only-of-type {\n",
       "        vertical-align: middle;\n",
       "    }\n",
       "\n",
       "    .dataframe tbody tr th {\n",
       "        vertical-align: top;\n",
       "    }\n",
       "\n",
       "    .dataframe thead th {\n",
       "        text-align: right;\n",
       "    }\n",
       "</style>\n",
       "<table border=\"1\" class=\"dataframe\">\n",
       "  <thead>\n",
       "    <tr style=\"text-align: right;\">\n",
       "      <th></th>\n",
       "      <th>mass</th>\n",
       "      <th>type</th>\n",
       "      <th>temp</th>\n",
       "      <th>l_min</th>\n",
       "      <th>l_max</th>\n",
       "      <th>m_span</th>\n",
       "      <th>s_span</th>\n",
       "      <th>g_span</th>\n",
       "    </tr>\n",
       "    <tr>\n",
       "      <th>mass</th>\n",
       "      <th></th>\n",
       "      <th></th>\n",
       "      <th></th>\n",
       "      <th></th>\n",
       "      <th></th>\n",
       "      <th></th>\n",
       "      <th></th>\n",
       "      <th></th>\n",
       "    </tr>\n",
       "  </thead>\n",
       "  <tbody>\n",
       "    <tr>\n",
       "      <th>2.0</th>\n",
       "      <td>2.0</td>\n",
       "      <td>A5</td>\n",
       "      <td>8200</td>\n",
       "      <td>16.0</td>\n",
       "      <td>20.0</td>\n",
       "      <td>1.3</td>\n",
       "      <td>0.2</td>\n",
       "      <td>0.1</td>\n",
       "    </tr>\n",
       "    <tr>\n",
       "      <th>1.9</th>\n",
       "      <td>1.9</td>\n",
       "      <td>A6</td>\n",
       "      <td>8000</td>\n",
       "      <td>13.0</td>\n",
       "      <td>16.0</td>\n",
       "      <td>1.5</td>\n",
       "      <td>0.2</td>\n",
       "      <td>0.1</td>\n",
       "    </tr>\n",
       "    <tr>\n",
       "      <th>1.8</th>\n",
       "      <td>1.8</td>\n",
       "      <td>A7</td>\n",
       "      <td>7800</td>\n",
       "      <td>11.0</td>\n",
       "      <td>13.0</td>\n",
       "      <td>1.8</td>\n",
       "      <td>0.3</td>\n",
       "      <td>0.2</td>\n",
       "    </tr>\n",
       "    <tr>\n",
       "      <th>1.7</th>\n",
       "      <td>1.7</td>\n",
       "      <td>A9</td>\n",
       "      <td>7500</td>\n",
       "      <td>8.6</td>\n",
       "      <td>10.0</td>\n",
       "      <td>2.1</td>\n",
       "      <td>0.3</td>\n",
       "      <td>0.2</td>\n",
       "    </tr>\n",
       "    <tr>\n",
       "      <th>1.6</th>\n",
       "      <td>1.6</td>\n",
       "      <td>F0</td>\n",
       "      <td>7300</td>\n",
       "      <td>6.7</td>\n",
       "      <td>8.2</td>\n",
       "      <td>2.5</td>\n",
       "      <td>0.4</td>\n",
       "      <td>0.2</td>\n",
       "    </tr>\n",
       "  </tbody>\n",
       "</table>\n",
       "</div>"
      ],
      "text/plain": [
       "      mass type  temp  l_min  l_max  m_span  s_span  g_span\n",
       "mass                                                       \n",
       "2.0    2.0   A5  8200   16.0   20.0     1.3     0.2     0.1\n",
       "1.9    1.9   A6  8000   13.0   16.0     1.5     0.2     0.1\n",
       "1.8    1.8   A7  7800   11.0   13.0     1.8     0.3     0.2\n",
       "1.7    1.7   A9  7500    8.6   10.0     2.1     0.3     0.2\n",
       "1.6    1.6   F0  7300    6.7    8.2     2.5     0.4     0.2"
      ]
     },
     "execution_count": 40,
     "metadata": {},
     "output_type": "execute_result"
    }
   ],
   "source": [
    "from pandas import read_csv\n",
    "\n",
    "\n",
    "df = read_csv('stellar_evolution.csv')\n",
    "df = df.set_index(df.mass)\n",
    "df.head()"
   ]
  },
  {
   "cell_type": "markdown",
   "metadata": {},
   "source": [
    "## Fitting temperature\n",
    "*Fit of temperature values as a forth-degree polynomial*"
   ]
  },
  {
   "cell_type": "code",
   "execution_count": 133,
   "metadata": {},
   "outputs": [
    {
     "data": {
      "text/plain": [
       "(1659.4884130666383,\n",
       " -7449.958040879493,\n",
       " 10805.399314976361,\n",
       " -2568.323443806999,\n",
       " 3296.2303340370468)"
      ]
     },
     "execution_count": 133,
     "metadata": {},
     "output_type": "execute_result"
    }
   ],
   "source": [
    "from scipy.optimize import curve_fit\n",
    "from numpy import sin\n",
    "\n",
    "x = df.index\n",
    "y = df.temp\n",
    "popt, _ = curve_fit(lambda x, a, b, c, d, e: a * x ** 4 + b * x ** 3 + c * x ** 2 + d * x + e, x, y)\n",
    "a, b, c, d, e = popt\n",
    "a, b, c, d, e"
   ]
  },
  {
   "cell_type": "markdown",
   "metadata": {},
   "source": [
    "*Predict and score interpollated values with a $r^2$ fitness score*"
   ]
  },
  {
   "cell_type": "code",
   "execution_count": 134,
   "metadata": {},
   "outputs": [
    {
     "data": {
      "text/plain": [
       "0.9968416442616412"
      ]
     },
     "execution_count": 134,
     "metadata": {},
     "output_type": "execute_result"
    }
   ],
   "source": [
    "import numpy as np\n",
    "\n",
    "temp = x.map(lambda x: a * x ** 4 + b * x ** 3 + c * x ** 2 + d * x + e)\n",
    "r2 = 1 - (np.sum((y - temp) ** 2) / np.sum((y - np.mean(y)) ** 2))\n",
    "r2"
   ]
  },
  {
   "cell_type": "code",
   "execution_count": 136,
   "metadata": {},
   "outputs": [
    {
     "data": {
      "image/png": "[encoded data removed]",
      "text/plain": [
       "<Figure size 432x288 with 1 Axes>"
      ]
     },
     "metadata": {
      "needs_background": "light"
     },
     "output_type": "display_data"
    }
   ],
   "source": [
    "import matplotlib.pyplot as plt\n",
    "\n",
    "\n",
    "_, ax = plt.subplots()\n",
    "ax.set_title(r\"Temp fit as a forth-degree polynomial\")\n",
    "ax.plot(x, y, 'o', label='Temp')\n",
    "ax.plot(x, temp, '-', label='Temp fit')\n",
    "ax.set_xlabel('mass in M☉')\n",
    "ax.set_ylabel('Temp in K')\n",
    "ax.legend()\n",
    "plt.show()"
   ]
  },
  {
   "cell_type": "markdown",
   "metadata": {},
   "source": [
    "## Fitting min an max luminosities\n",
    "### L-Min fit\n",
    "*Fit of lmin values as $ax^b$*"
   ]
  },
  {
   "cell_type": "code",
   "execution_count": 44,
   "metadata": {},
   "outputs": [
    {
     "data": {
      "text/plain": [
       "(0.8994825154104518, 4.182711149771404)"
      ]
     },
     "execution_count": 44,
     "metadata": {},
     "output_type": "execute_result"
    }
   ],
   "source": [
    "x = df.index\n",
    "y = df.l_min\n",
    "popt, _ = curve_fit(lambda x, a, b: a * x ** b, x, y)\n",
    "a, b = popt\n",
    "a, b"
   ]
  },
  {
   "cell_type": "markdown",
   "metadata": {},
   "source": [
    "*Predict and score interpollated values with a $r^2$ fitness score*"
   ]
  },
  {
   "cell_type": "code",
   "execution_count": 45,
   "metadata": {},
   "outputs": [
    {
     "data": {
      "text/plain": [
       "0.9981403450049346"
      ]
     },
     "execution_count": 45,
     "metadata": {},
     "output_type": "execute_result"
    }
   ],
   "source": [
    "l_min = x.map(lambda x: a * x ** b)\n",
    "r2 = 1 - (np.sum((y - l_min) ** 2) / np.sum((y - np.mean(y)) ** 2))\n",
    "r2"
   ]
  },
  {
   "cell_type": "code",
   "execution_count": 46,
   "metadata": {},
   "outputs": [
    {
     "data": {
      "image/png": "[encoded data removed]",
      "text/plain": [
       "<Figure size 432x288 with 1 Axes>"
      ]
     },
     "metadata": {
      "needs_background": "light"
     },
     "output_type": "display_data"
    }
   ],
   "source": [
    "_, ax = plt.subplots()\n",
    "ax.set_title(r\"L-Min fit as $ax^b$\")\n",
    "ax.plot(x, y, 'o', label='L-Min')\n",
    "ax.plot(x, l_min, '-', label='L-Min fit')\n",
    "ax.set_xlabel('mass in M☉')\n",
    "ax.set_ylabel('luminosity in L☉')\n",
    "ax.legend()\n",
    "plt.show()"
   ]
  },
  {
   "cell_type": "markdown",
   "metadata": {},
   "source": [
    "*All l_min predicted values for mass \\[.1, 2.0\\] must be greater than 0*"
   ]
  },
  {
   "cell_type": "code",
   "execution_count": 47,
   "metadata": {},
   "outputs": [
    {
     "data": {
      "text/plain": [
       "True"
      ]
     },
     "execution_count": 47,
     "metadata": {},
     "output_type": "execute_result"
    }
   ],
   "source": [
    "all(v >= 0 for v in l_min)"
   ]
  },
  {
   "cell_type": "markdown",
   "metadata": {},
   "source": [
    "### L-Max fit\n",
    "*Fit of lmax values as $ax^b$*"
   ]
  },
  {
   "cell_type": "code",
   "execution_count": 48,
   "metadata": {},
   "outputs": [
    {
     "data": {
      "text/plain": [
       "(1.417549268949681, 3.786542028176919)"
      ]
     },
     "execution_count": 48,
     "metadata": {},
     "output_type": "execute_result"
    }
   ],
   "source": [
    "df_filtered = df[df.index >= .45]\n",
    "x = df_filtered.index\n",
    "y = df_filtered.l_max\n",
    "popt, _ = curve_fit(lambda x, a, b: a * x ** b, x, y)\n",
    "a, b = popt\n",
    "a, b"
   ]
  },
  {
   "cell_type": "code",
   "execution_count": 49,
   "metadata": {},
   "outputs": [
    {
     "data": {
      "text/plain": [
       "0.9987815353130644"
      ]
     },
     "execution_count": 49,
     "metadata": {},
     "output_type": "execute_result"
    }
   ],
   "source": [
    "l_max = x.map(lambda x: a * x ** b)\n",
    "r2 = 1 - (np.sum((y - l_max) ** 2) / np.sum((y - np.mean(y)) ** 2))\n",
    "r2"
   ]
  },
  {
   "cell_type": "code",
   "execution_count": 50,
   "metadata": {},
   "outputs": [
    {
     "data": {
      "image/png": "[encoded data removed]",
      "text/plain": [
       "<Figure size 432x288 with 1 Axes>"
      ]
     },
     "metadata": {
      "needs_background": "light"
     },
     "output_type": "display_data"
    }
   ],
   "source": [
    "_, ax = plt.subplots()\n",
    "ax.set_title(r\"L-Max fit as $ax^b$\")\n",
    "ax.plot(x, y, 'o', label='L-Max')\n",
    "ax.plot(df.index, df.l_min, 'o', label='L-Min')\n",
    "ax.plot(x, l_max, '-', label='L-Max fit')\n",
    "ax.plot(df.index, l_min, '-', label='L-Min fit')\n",
    "ax.set_xlabel('mass in M☉')\n",
    "ax.set_ylabel('luminosity in L☉')\n",
    "ax.legend()\n",
    "plt.show()"
   ]
  },
  {
   "cell_type": "markdown",
   "metadata": {},
   "source": [
    "*All l_max predicted values for mass [.45, 2.0] must be greater than predicted l_min values*"
   ]
  },
  {
   "cell_type": "code",
   "execution_count": 51,
   "metadata": {},
   "outputs": [
    {
     "data": {
      "text/plain": [
       "True"
      ]
     },
     "execution_count": 51,
     "metadata": {},
     "output_type": "execute_result"
    }
   ],
   "source": [
    "diff = [l_max[i] - l_min[i] for i in range(len(df_filtered.index))]\n",
    "all(d >= 0 for d in diff)"
   ]
  },
  {
   "cell_type": "markdown",
   "metadata": {},
   "source": [
    "## Fitting spans\n",
    "### M-Span fit\n",
    "*Fit of mspan values as $ae^{bx}+c$*"
   ]
  },
  {
   "cell_type": "code",
   "execution_count": 52,
   "metadata": {},
   "outputs": [
    {
     "data": {
      "text/plain": [
       "(355.2573273345443, -3.623944651847095, 1.1984270816978497)"
      ]
     },
     "execution_count": 52,
     "metadata": {},
     "output_type": "execute_result"
    }
   ],
   "source": [
    "df_filtered = df[df.index >= .45]\n",
    "x = df_filtered.index\n",
    "y = df_filtered.m_span\n",
    "popt, _ = curve_fit(lambda x, a, b, c: a * np.exp(b * x) + c, x, y)\n",
    "a, b, c = popt\n",
    "a, b, c"
   ]
  },
  {
   "cell_type": "code",
   "execution_count": 53,
   "metadata": {},
   "outputs": [
    {
     "data": {
      "text/plain": [
       "0.9990442441678579"
      ]
     },
     "execution_count": 53,
     "metadata": {},
     "output_type": "execute_result"
    }
   ],
   "source": [
    "m_span = x.map(lambda x: a * np.exp(b * x) + c)\n",
    "r2 = 1 - (np.sum((y - m_span) ** 2) / np.sum((y - np.mean(y)) ** 2))\n",
    "r2"
   ]
  },
  {
   "cell_type": "code",
   "execution_count": 54,
   "metadata": {},
   "outputs": [
    {
     "data": {
      "image/png": "[encoded data removed]",
      "text/plain": [
       "<Figure size 432x288 with 1 Axes>"
      ]
     },
     "metadata": {
      "needs_background": "light"
     },
     "output_type": "display_data"
    }
   ],
   "source": [
    "_, ax = plt.subplots()\n",
    "ax.set_title(r\"M-Span fit as $ae^{bx}+c$\")\n",
    "ax.plot(x, y, 'o', label='M-Span')\n",
    "ax.plot(x, m_span, '-', label='M-Span fit')\n",
    "ax.set_xlabel('mass in M☉')\n",
    "ax.set_ylabel('span in Ga')\n",
    "ax.legend()\n",
    "plt.show()"
   ]
  },
  {
   "cell_type": "markdown",
   "metadata": {},
   "source": [
    "*All m_span predicted values for mass \\[.45, 2.0\\] must be greater than 0*"
   ]
  },
  {
   "cell_type": "code",
   "execution_count": 55,
   "metadata": {},
   "outputs": [
    {
     "data": {
      "text/plain": [
       "True"
      ]
     },
     "execution_count": 55,
     "metadata": {},
     "output_type": "execute_result"
    }
   ],
   "source": [
    "all(v >= 0 for v in m_span)"
   ]
  },
  {
   "cell_type": "markdown",
   "metadata": {},
   "source": [
    "### S-Span fit\n",
    "*Fit of sspan values as $ae^{bx}$*"
   ]
  },
  {
   "cell_type": "code",
   "execution_count": 56,
   "metadata": {},
   "outputs": [
    {
     "data": {
      "text/plain": [
       "(18.445568275396568, -2.471832533773299)"
      ]
     },
     "execution_count": 56,
     "metadata": {},
     "output_type": "execute_result"
    }
   ],
   "source": [
    "df_filtered = df[df.index >= .95]\n",
    "x = df_filtered.index\n",
    "y = df_filtered.s_span\n",
    "popt, _ = curve_fit(lambda x, a, b: a * np.exp(b * x), x, y)\n",
    "a, b = popt\n",
    "a, b"
   ]
  },
  {
   "cell_type": "code",
   "execution_count": 57,
   "metadata": {},
   "outputs": [
    {
     "data": {
      "text/plain": [
       "0.9903685923306617"
      ]
     },
     "execution_count": 57,
     "metadata": {},
     "output_type": "execute_result"
    }
   ],
   "source": [
    "s_span = x.map(lambda x: a * np.exp(b * x))\n",
    "r2 = 1 - (np.sum((y - s_span) ** 2) / np.sum((y - np.mean(y)) ** 2))\n",
    "r2"
   ]
  },
  {
   "cell_type": "code",
   "execution_count": 58,
   "metadata": {},
   "outputs": [
    {
     "data": {
      "image/png": "[encoded data removed]",
      "text/plain": [
       "<Figure size 432x288 with 1 Axes>"
      ]
     },
     "metadata": {
      "needs_background": "light"
     },
     "output_type": "display_data"
    }
   ],
   "source": [
    "_, ax = plt.subplots()\n",
    "ax.set_title(r\"S-Span fit as $ae^{bx}$\")\n",
    "ax.plot(x, y, 'o', label='S-Span')\n",
    "ax.plot(x, s_span, '-', label='S-Span fit')\n",
    "ax.set_xlabel('mass in M☉')\n",
    "ax.set_ylabel('span in Ga')\n",
    "ax.legend()\n",
    "plt.show()"
   ]
  },
  {
   "cell_type": "markdown",
   "metadata": {},
   "source": [
    "*All s_span predicted values for mass \\[.95, 2.0\\] must be greater than 0*"
   ]
  },
  {
   "cell_type": "code",
   "execution_count": 59,
   "metadata": {},
   "outputs": [
    {
     "data": {
      "text/plain": [
       "True"
      ]
     },
     "execution_count": 59,
     "metadata": {},
     "output_type": "execute_result"
    }
   ],
   "source": [
    "all(v >= 0 for v in s_span)"
   ]
  },
  {
   "cell_type": "markdown",
   "metadata": {},
   "source": [
    "### G-Span fit\n",
    "*Fit of gspan values as $ae^{bx}$*"
   ]
  },
  {
   "cell_type": "code",
   "execution_count": 60,
   "metadata": {},
   "outputs": [
    {
     "data": {
      "text/plain": [
       "(11.045171731219448, -2.4574060414344223)"
      ]
     },
     "execution_count": 60,
     "metadata": {},
     "output_type": "execute_result"
    }
   ],
   "source": [
    "df_filtered = df[df.index >= .95]\n",
    "x = df_filtered.index\n",
    "y = df_filtered.g_span\n",
    "popt, _ = curve_fit(lambda x, a, b: a * np.exp(b * x), x, y)\n",
    "a, b = popt\n",
    "a, b"
   ]
  },
  {
   "cell_type": "code",
   "execution_count": 61,
   "metadata": {},
   "outputs": [
    {
     "data": {
      "text/plain": [
       "0.984675206966851"
      ]
     },
     "execution_count": 61,
     "metadata": {},
     "output_type": "execute_result"
    }
   ],
   "source": [
    "g_span = x.map(lambda x: a * np.exp(b * x))\n",
    "r2 = 1 - (np.sum((y - g_span) ** 2) / np.sum((y - np.mean(y)) ** 2))\n",
    "r2"
   ]
  },
  {
   "cell_type": "code",
   "execution_count": 62,
   "metadata": {},
   "outputs": [
    {
     "data": {
      "image/png": "[encoded data removed]",
      "text/plain": [
       "<Figure size 432x288 with 1 Axes>"
      ]
     },
     "metadata": {
      "needs_background": "light"
     },
     "output_type": "display_data"
    }
   ],
   "source": [
    "_, ax = plt.subplots()\n",
    "ax.set_title(r\"G-Span fit as $ae^{bx}$\")\n",
    "ax.plot(x, y, 'o', label='G-Span')\n",
    "ax.plot(x, g_span, '-', label='G-Span fit')\n",
    "ax.set_xlabel('mass in M☉')\n",
    "ax.set_ylabel('span in Ga')\n",
    "ax.legend()\n",
    "plt.show()"
   ]
  },
  {
   "cell_type": "markdown",
   "metadata": {},
   "source": [
    "*All g_span predicted values for mass \\[.95, 2.0\\] must be greater than 0*"
   ]
  },
  {
   "cell_type": "code",
   "execution_count": 63,
   "metadata": {},
   "outputs": [
    {
     "data": {
      "text/plain": [
       "True"
      ]
     },
     "execution_count": 63,
     "metadata": {},
     "output_type": "execute_result"
    }
   ],
   "source": [
    "all(v >= 0 for v in g_span)"
   ]
  }
 ],
 "metadata": {
  "interpreter": {
   "hash": "5cf38518820c2b8a9a448517a53e2c53d5f90b49f13a92d6618c75b5696ed76a"
  },
  "kernelspec": {
   "display_name": "Python 3.9.0 64-bit",
   "name": "python3"
  },
  "language_info": {
   "codemirror_mode": {
    "name": "ipython",
    "version": 3
   },
   "file_extension": ".py",
   "mimetype": "text/x-python",
   "name": "python",
   "nbconvert_exporter": "python",
   "pygments_lexer": "ipython3",
   "version": "3.9.0"
  }
 },
 "nbformat": 4,
 "nbformat_minor": 5
}
